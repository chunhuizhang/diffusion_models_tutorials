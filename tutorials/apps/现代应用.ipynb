{
 "cells": [
  {
   "cell_type": "markdown",
   "id": "c2b92067-a359-46be-9297-a5719668619e",
   "metadata": {},
   "source": [
    "- image repair\n",
    "    - https://github.com/lansinuote/image_repair"
   ]
  }
 ],
 "metadata": {
  "kernelspec": {
   "display_name": "Python 3 (ipykernel)",
   "language": "python",
   "name": "python3"
  },
  "language_info": {
   "codemirror_mode": {
    "name": "ipython",
    "version": 3
   },
   "file_extension": ".py",
   "mimetype": "text/x-python",
   "name": "python",
   "nbconvert_exporter": "python",
   "pygments_lexer": "ipython3",
   "version": "3.10.13"
  }
 },
 "nbformat": 4,
 "nbformat_minor": 5
}
