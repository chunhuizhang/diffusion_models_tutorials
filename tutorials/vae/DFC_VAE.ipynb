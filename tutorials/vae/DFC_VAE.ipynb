{
 "cells": [
  {
   "cell_type": "markdown",
   "id": "0421e436-35b2-47d6-ba7b-9eddc33645ba",
   "metadata": {},
   "source": [
    "- https://arxiv.org/abs/1610.00291\n",
    "- https://github.com/toshikwa/vae.pytorch.git"
   ]
  }
 ],
 "metadata": {
  "kernelspec": {
   "display_name": "Python 3 (ipykernel)",
   "language": "python",
   "name": "python3"
  },
  "language_info": {
   "codemirror_mode": {
    "name": "ipython",
    "version": 3
   },
   "file_extension": ".py",
   "mimetype": "text/x-python",
   "name": "python",
   "nbconvert_exporter": "python",
   "pygments_lexer": "ipython3",
   "version": "3.10.13"
  }
 },
 "nbformat": 4,
 "nbformat_minor": 5
}
