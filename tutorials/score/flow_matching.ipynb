{
 "cells": [
  {
   "cell_type": "markdown",
   "id": "85fac50f-17c2-4655-9f3a-7988ecaedf6f",
   "metadata": {},
   "source": [
    "- vector field: $v(x,t)$\n",
    "    - 在任何一个位置 $x$ 和时间 $t$，都有一个确定的速度和方向 $v(x,t)$\n",
    "- flow matching (流匹配)\n",
    "    - 从 $x_0\\rightarrow x_1$, 则在路径上任何一点 $x_t$，都能准确地预测这个速度 $x_1-x_0$。通过从无数对 $(x_0, x_1)$ 中学习，神经网络最终学会了整个空间的流动规律。"
   ]
  },
  {
   "cell_type": "markdown",
   "id": "8ea9a96c-ce7e-4ba0-a2b6-6c0a70c93496",
   "metadata": {},
   "source": [
    "### FM"
   ]
  },
  {
   "cell_type": "markdown",
   "id": "a36efe9f-8be6-461b-b19c-b85d177f3329",
   "metadata": {},
   "source": [
    "Flow Matching 旨在学习一个常微分方程 (ODE) 的向量场，该方程能将一个简单的先验分布 $p_0$ (如 $\\mathcal{N}(0, I)$，$x_0\\sim p_0$) 变换为目标数据分布 $p_1$ (即 $p_{data}$)。这个ODE定义为：\n",
    "\n",
    "$$\n",
    "\\frac{d\\mathbf{x}_t}{dt} = \\mathbf{v}_t(\\mathbf{x}_t), \\quad \\text{其中 } \\mathbf{x}_0 \\sim p_0\n",
    "$$\n",
    "\n",
    "我们定义一个概率路径 $p_t(\\mathbf{x})$，它连接了 $p_0$ 和 $p_1$。同时，我们定义一个目标向量场 $\\mathbf{v}_t(\\mathbf{x})$，它能生成这个概率路径。Flow Matching 的目标是训练一个神经网络 $\\mathbf{u}_{\\theta}(\\mathbf{x}, t)$ 来直接回归这个目标向量场 $\\mathbf{v}_t(\\mathbf{x})$：\n",
    "\n",
    "$$\n",
    "\\mathcal{L}_{FM}(\\theta) = \\mathbb{E}_{t, \\mathbf{x}_t \\sim p_t} \\left[ \\| \\mathbf{u}_{\\theta}(\\mathbf{x}_t, t) - \\mathbf{v}_t(\\mathbf{x}_t) \\|_2^2 \\right]\n",
    "$$\n",
    "\n",
    "一个关键的构造是，如果我们定义一个简单的概率路径，例如线性插值：\n",
    "$$\n",
    "p_t(\\mathbf{x}) = (1-t) p_0(\\mathbf{x}) + t p_1(\\mathbf{x})\n",
    "$$"
   ]
  },
  {
   "cell_type": "code",
   "execution_count": null,
   "id": "8d6b6a2d-ee13-42e8-b618-6ed8cb374fea",
   "metadata": {},
   "outputs": [],
   "source": []
  }
 ],
 "metadata": {
  "kernelspec": {
   "display_name": "Python 3 (ipykernel)",
   "language": "python",
   "name": "python3"
  },
  "language_info": {
   "codemirror_mode": {
    "name": "ipython",
    "version": 3
   },
   "file_extension": ".py",
   "mimetype": "text/x-python",
   "name": "python",
   "nbconvert_exporter": "python",
   "pygments_lexer": "ipython3",
   "version": "3.10.0"
  }
 },
 "nbformat": 4,
 "nbformat_minor": 5
}
