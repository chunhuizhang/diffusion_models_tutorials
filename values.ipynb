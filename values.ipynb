{
 "cells": [
  {
   "cell_type": "markdown",
   "id": "3168c765-13c3-41ee-9e96-ddaf1cab3576",
   "metadata": {},
   "source": [
    "- 联合分布的对数似然为 $\\log p(x_1, x_2, P)$。其 ELBO 定义为：\n",
    "    - $\\mathcal{L}(q) = \\mathbb{E}_{q(W, z_1, z_2)}[\\log p(x_1, x_2, P, W, z_1, z_2)] - \\mathbb{E}_{q(W, z_1, z_2)}[\\log q(W, z_1, z_2)]$\n",
    "    - $q(W, z_1, z_2) = q(W) q(z_1) q(z_2)$\n",
    "    - $\\mathcal{L}(q) = \\mathbb{E}_{q(W)q(z_1)q(z_2)} [ \\log p(x_1|z_1) + \\log p(x_2|z_2) + \\log p(P|z_1, z_2, W) ] - D_{KL}(q(W, z_1, z_2) || p(W, z_1, z_2))$\n",
    "        - $D_{KL}(q(W, z_1, z_2) || p(W, z_1, z_2)) = D_{KL}(q(W) || p(W)) + D_{KL}(q(z_1) || p(z_1)) + D_{KL}(q(z_2) || p(z_2))$\n",
    "    - $z$：分两部分一部分用来生成（重构数据$x$），一部分用来生成 preference $P$\n",
    "\n",
    "$$\n",
    "\\begin{split}\n",
    "\\mathcal{L} &= \\underbrace{\\mathbb{E}_{q(z_{1,x})}[\\log p(x_1|z_{1,x})] + \\mathbb{E}_{q(z_{2,x})}[\\log p(x_2|z_{2,x})]}_{\\text{reconstruction}} \\\\\n",
    "&+ \\underbrace{\\mathbb{E}_{q(W)q(z_{1,p})q(z_{2,p})}[\\log p(P|z_{1,p}, z_{2,p}, W)]}_{\\text{Preference}} \\\\\n",
    "&- \\underbrace{D_{KL}(q(W)||p(W)) - D_{KL}(q(z_1)||p(z_1)) - D_{KL}(q(z_2)||p(z_2))}_{\\text{KL reg}}\n",
    "\\end{split}\n",
    "$$\n",
    "\n"
   ]
  }
 ],
 "metadata": {
  "kernelspec": {
   "display_name": "Python 3 (ipykernel)",
   "language": "python",
   "name": "python3"
  },
  "language_info": {
   "codemirror_mode": {
    "name": "ipython",
    "version": 3
   },
   "file_extension": ".py",
   "mimetype": "text/x-python",
   "name": "python",
   "nbconvert_exporter": "python",
   "pygments_lexer": "ipython3",
   "version": "3.10.0"
  }
 },
 "nbformat": 4,
 "nbformat_minor": 5
}
