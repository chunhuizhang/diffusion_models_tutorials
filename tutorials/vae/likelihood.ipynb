{
 "cells": [
  {
   "cell_type": "markdown",
   "id": "b344e155-920d-42bb-8fa9-f903e4dd802c",
   "metadata": {},
   "source": [
    "$$\n",
    "\\begin{split}\n",
    "& \\min KL(p_{data}(x)\\|p_{model}(x)))\\\\\n",
    "& \\max \\mathbb E_{p_{data}(x)}\\log p_{data}(x)\n",
    "\\end{split}\n",
    "$$"
   ]
  }
 ],
 "metadata": {
  "kernelspec": {
   "display_name": "Python 3 (ipykernel)",
   "language": "python",
   "name": "python3"
  },
  "language_info": {
   "codemirror_mode": {
    "name": "ipython",
    "version": 3
   },
   "file_extension": ".py",
   "mimetype": "text/x-python",
   "name": "python",
   "nbconvert_exporter": "python",
   "pygments_lexer": "ipython3",
   "version": "3.10.0"
  }
 },
 "nbformat": 4,
 "nbformat_minor": 5
}
