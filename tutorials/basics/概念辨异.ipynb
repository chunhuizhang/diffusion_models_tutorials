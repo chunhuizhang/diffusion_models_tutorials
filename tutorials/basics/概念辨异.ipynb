{
 "cells": [
  {
   "cell_type": "markdown",
   "id": "c69aa1e4-bfd1-4210-ac24-a380800f8623",
   "metadata": {},
   "source": [
    "## explicit vs. implicit"
   ]
  },
  {
   "cell_type": "code",
   "execution_count": null,
   "id": "07aad1ec-bfc7-4b40-9962-e29a7ff67d99",
   "metadata": {},
   "outputs": [],
   "source": []
  }
 ],
 "metadata": {
  "kernelspec": {
   "display_name": "Python 3 (ipykernel)",
   "language": "python",
   "name": "python3"
  },
  "language_info": {
   "codemirror_mode": {
    "name": "ipython",
    "version": 3
   },
   "file_extension": ".py",
   "mimetype": "text/x-python",
   "name": "python",
   "nbconvert_exporter": "python",
   "pygments_lexer": "ipython3",
   "version": "3.10.13"
  }
 },
 "nbformat": 4,
 "nbformat_minor": 5
}
