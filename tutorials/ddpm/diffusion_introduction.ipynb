{
 "cells": [
  {
   "cell_type": "markdown",
   "id": "a0534add",
   "metadata": {},
   "source": [
    "## references"
   ]
  },
  {
   "cell_type": "markdown",
   "id": "8f77f72e",
   "metadata": {},
   "source": [
    "- Huggingface diffusion models course\n",
    "    - https://github.com/huggingface/diffusion-models-class.git"
   ]
  },
  {
   "cell_type": "markdown",
   "id": "4e3064ca",
   "metadata": {},
   "source": [
    "## 基本概念"
   ]
  },
  {
   "cell_type": "markdown",
   "id": "7c5904d3",
   "metadata": {},
   "source": [
    "- score based model\n",
    "- energy based model"
   ]
  },
  {
   "cell_type": "markdown",
   "id": "8bb054e3",
   "metadata": {},
   "source": [
    "- cn: control net"
   ]
  },
  {
   "cell_type": "markdown",
   "id": "04204e95",
   "metadata": {},
   "source": [
    "## models resource"
   ]
  },
  {
   "cell_type": "markdown",
   "id": "53df58a1",
   "metadata": {},
   "source": [
    "- `stable Diffusion Dreambooth Concepts Library`\n",
    "    - https://huggingface.co/sd-dreambooth-library\n",
    "    - `sd-dreambooth-library/mr-potato-head`\n",
    "        - `sks`\n",
    "- `\"johnowhitaker/ddpm-butterflies-32px\"`"
   ]
  }
 ],
 "metadata": {
  "kernelspec": {
   "display_name": "Python 3 (ipykernel)",
   "language": "python",
   "name": "python3"
  },
  "language_info": {
   "codemirror_mode": {
    "name": "ipython",
    "version": 3
   },
   "file_extension": ".py",
   "mimetype": "text/x-python",
   "name": "python",
   "nbconvert_exporter": "python",
   "pygments_lexer": "ipython3",
   "version": "3.10.13"
  },
  "toc": {
   "base_numbering": 1,
   "nav_menu": {},
   "number_sections": true,
   "sideBar": true,
   "skip_h1_title": false,
   "title_cell": "Table of Contents",
   "title_sidebar": "Contents",
   "toc_cell": false,
   "toc_position": {},
   "toc_section_display": true,
   "toc_window_display": false
  }
 },
 "nbformat": 4,
 "nbformat_minor": 5
}
