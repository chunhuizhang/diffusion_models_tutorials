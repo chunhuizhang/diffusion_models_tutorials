{
 "cells": [
  {
   "cell_type": "markdown",
   "id": "6d9f730a-fb7f-469a-bd8d-a35a0d1ff9a6",
   "metadata": {},
   "source": [
    "所有生成算法都可以用**变分推断**（Variational Inference）统一起来，大家具有相同的ELBO的基本形式，只是假定的生成过程的逻辑不一样导致了后续优化的差异，比如\n",
    "- VAE，假定隐变量是单步的，知道先验分布是标准高斯分布，生成分布是未知参数的高斯分布，未知后验分布，用q高斯分布去近似这个未知的后验分布，整个过程就是求后验和生成分布的参数--编码解码器参数；\n",
    "- DDPM，假定隐变量是多步条件高斯转移的马氏链，知道先验和后验分布，以及生成分布的形式，求解生成分布的参数--unet参数；你也可以自己设计一个新的隐变量结构比如树形，背后有多种因素控制生成。"
   ]
  },
  {
   "cell_type": "markdown",
   "id": "364a28a1-9d4c-4061-a808-bc1ca779b8b1",
   "metadata": {},
   "source": [
    "- https://www.zhihu.com/question/1908479621466396378/answer/1910745238147929889\n",
    "    - diffusion和自回归的最本质区别在于：过去生成完的东西能不能改，能改则是 diffusion，不能改则是 ar；\n",
    "- 图像生成领域\n",
    "    - ar：vqgan，maskGiT\n",
    "        - 建模 $p(x)=p(x_1,\\cdots,x_n)=p(x_1)p(x_2|x_1)\\cdots p(x_n|x_{\\lt {n-1}})$\n",
    "        - $x_1,x_2,\\cdots,x_{n-1}$: 这些历史 tokens，一旦确定下来，就不会被修改了，生成 eos 的时机也变得不确定；\n",
    "    - diffusion：DDPM，flow matching\n",
    "        - 建模的则是给定噪声分布，转移到联合分布：$p(x_1,\\cdots,x_n|\\epsilon)$，为了获得比较好的效果，\n",
    "        - 从噪声到信号分好几步，$p(x_1^t,\\cdots,x_n^{t}|x_1^{t-1},\\cdots,x_n^{t-1})$\n",
    "        - 中间的每一步，$x$ 都是被修改的，但 $x$ 的shape（即长度）是事先要定下来的；"
   ]
  }
 ],
 "metadata": {
  "kernelspec": {
   "display_name": "Python 3 (ipykernel)",
   "language": "python",
   "name": "python3"
  },
  "language_info": {
   "codemirror_mode": {
    "name": "ipython",
    "version": 3
   },
   "file_extension": ".py",
   "mimetype": "text/x-python",
   "name": "python",
   "nbconvert_exporter": "python",
   "pygments_lexer": "ipython3",
   "version": "3.10.0"
  }
 },
 "nbformat": 4,
 "nbformat_minor": 5
}
