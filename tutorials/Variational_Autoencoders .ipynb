{
 "cells": [
  {
   "cell_type": "code",
   "execution_count": 1,
   "id": "cd8c8a75",
   "metadata": {
    "ExecuteTime": {
     "end_time": "2023-11-15T14:09:54.271774Z",
     "start_time": "2023-11-15T14:09:54.256936Z"
    }
   },
   "outputs": [],
   "source": [
    "from IPython.display import Image"
   ]
  },
  {
   "cell_type": "markdown",
   "id": "11e1d594",
   "metadata": {},
   "source": [
    "## from AE to VAE"
   ]
  },
  {
   "cell_type": "markdown",
   "id": "77add427",
   "metadata": {},
   "source": [
    "- AE 一般都是降维的，\n",
    "    - latent/smaller/compressed representation；\n",
    "- references\n",
    "    - https://kvfrans.com/variational-autoencoders-explained/\n",
    "    - https://github.com/pytorch/examples/blob/main/vae/main.py"
   ]
  },
  {
   "cell_type": "code",
   "execution_count": 4,
   "id": "13bddb3c",
   "metadata": {
    "ExecuteTime": {
     "end_time": "2023-11-15T14:10:39.267691Z",
     "start_time": "2023-11-15T14:10:39.258057Z"
    }
   },
   "outputs": [
    {
     "data": {
      "text/html": [
       "<img src=\"https://kvfrans.com/content/images/2016/08/autoenc.jpg\" width=\"500\"/>"
      ],
      "text/plain": [
       "<IPython.core.display.Image object>"
      ]
     },
     "execution_count": 4,
     "metadata": {},
     "output_type": "execute_result"
    }
   ],
   "source": [
    "Image(url='https://kvfrans.com/content/images/2016/08/autoenc.jpg', width=500)"
   ]
  },
  {
   "cell_type": "code",
   "execution_count": 5,
   "id": "c1b71474",
   "metadata": {
    "ExecuteTime": {
     "end_time": "2023-11-15T14:10:58.800735Z",
     "start_time": "2023-11-15T14:10:58.791244Z"
    },
    "scrolled": true
   },
   "outputs": [
    {
     "data": {
      "text/html": [
       "<img src=\"https://kvfrans.com/content/images/2016/08/vae.jpg\" width=\"500\"/>"
      ],
      "text/plain": [
       "<IPython.core.display.Image object>"
      ]
     },
     "execution_count": 5,
     "metadata": {},
     "output_type": "execute_result"
    }
   ],
   "source": [
    "Image(url='https://kvfrans.com/content/images/2016/08/vae.jpg', width=500)"
   ]
  },
  {
   "cell_type": "markdown",
   "id": "5442acd1",
   "metadata": {},
   "source": [
    "### 网络结构"
   ]
  },
  {
   "cell_type": "markdown",
   "id": "15f221c2",
   "metadata": {},
   "source": [
    "- Encoder & Decoder\n",
    "    - Encoder：$q(z|x)$（神经网络参数为 $\\phi$） => $q_\\phi(z|x)$\n",
    "        - inference network\n",
    "    - Decoder: $p(x|z)$（神经网络参数为 $\\theta$）=> $p_\\theta(x|z)$\n",
    "        - generate network"
   ]
  },
  {
   "cell_type": "markdown",
   "id": "b9557a4a",
   "metadata": {},
   "source": [
    "## loss function"
   ]
  },
  {
   "cell_type": "markdown",
   "id": "fa5565d4",
   "metadata": {},
   "source": [
    "$$\n",
    "\\mathcal L(\\theta, \\phi;\\mathbf x, \\mathbf z)=\\underbrace{\\mathbb E_{q_\\phi(z|x)}\\left[\\log p_\\theta(x|z)\\right]}_{\\text{reconstruction loss}}-\\underbrace{D_{KL}\\left(q_\\phi(z|x)\\|p(z)\\right)}_{\\text{stay close to Normal(0,1)}}\n",
    "$$"
   ]
  },
  {
   "cell_type": "markdown",
   "id": "496c3a59",
   "metadata": {},
   "source": [
    "### ELBO"
   ]
  },
  {
   "cell_type": "markdown",
   "id": "b8449d3e",
   "metadata": {},
   "source": [
    "## training "
   ]
  },
  {
   "cell_type": "markdown",
   "id": "8c4c21a5",
   "metadata": {},
   "source": [
    "### sampling: reparameterization trick"
   ]
  },
  {
   "cell_type": "code",
   "execution_count": 6,
   "id": "45ef33ab",
   "metadata": {
    "ExecuteTime": {
     "end_time": "2023-11-15T15:32:51.898719Z",
     "start_time": "2023-11-15T15:32:51.887972Z"
    }
   },
   "outputs": [
    {
     "data": {
      "text/html": [
       "<img src=\"https://miro.medium.com/v2/resize:fit:4800/format:webp/1*I9532-09gKnRR43acCFedQ.png\" width=\"400\"/>"
      ],
      "text/plain": [
       "<IPython.core.display.Image object>"
      ]
     },
     "execution_count": 6,
     "metadata": {},
     "output_type": "execute_result"
    }
   ],
   "source": [
    "Image(url='https://miro.medium.com/v2/resize:fit:4800/format:webp/1*I9532-09gKnRR43acCFedQ.png', width=400)"
   ]
  },
  {
   "cell_type": "markdown",
   "id": "d0d1a23e",
   "metadata": {},
   "source": [
    "- 重参数化技巧使得反向传播成为可能；\n",
    "    - 在VAE中，我们希望从潜在空间（latent space）中抽取样本，这个潜在空间通常是由神经网络输出的一些参数（如均值和方差）定义的正态分布。然而，直接从这种分布中抽取样本是一个随机过程，这使得无法直接对其进行反向传播，因为梯度无法穿过随机节点。\n",
    "- 重参数化技巧，它的基本思想是将随机抽样过程重写为一个可微分的操作，具体操作如下：\n",
    "    - 分离随机性和网络参数，$q_\\phi(z|x)$ 预测 $\\mu,\\sigma$, 我们不再是从该参数化的分布中直接进行采样，而是从一个标准正态分布 $\\mathcal N(0,1)$ 中抽取一个随机噪声，$\\epsilon$\n",
    "    - 重参数化转换，基于上一步，我们可以计算latent variable $z=\\mu+\\sigma\\odot \\epsilon$ （element-wise product）\n",
    "        - 这里的关键是噪声 $\\epsilon$ 是随机的，但是一旦抽取，它就是一个固定的值，使得整个表达式变得可微分。\n",
    "        - $z=\\mu+\\sigma\\odot\\epsilon$ 而不是 $z\\sim q_\\phi(z|x)$，直接取值，而不是采样；"
   ]
  },
  {
   "cell_type": "code",
   "execution_count": 7,
   "id": "77a4c59d",
   "metadata": {
    "ExecuteTime": {
     "end_time": "2023-11-15T15:35:55.969675Z",
     "start_time": "2023-11-15T15:35:55.959474Z"
    },
    "scrolled": true
   },
   "outputs": [
    {
     "data": {
      "text/html": [
       "<img src=\"https://i.stack.imgur.com/TzX3I.png\" width=\"400\"/>"
      ],
      "text/plain": [
       "<IPython.core.display.Image object>"
      ]
     },
     "execution_count": 7,
     "metadata": {},
     "output_type": "execute_result"
    }
   ],
   "source": [
    "Image(url='https://i.stack.imgur.com/TzX3I.png', width=400)"
   ]
  }
 ],
 "metadata": {
  "kernelspec": {
   "display_name": "Python 3 (ipykernel)",
   "language": "python",
   "name": "python3"
  },
  "language_info": {
   "codemirror_mode": {
    "name": "ipython",
    "version": 3
   },
   "file_extension": ".py",
   "mimetype": "text/x-python",
   "name": "python",
   "nbconvert_exporter": "python",
   "pygments_lexer": "ipython3",
   "version": "3.10.13"
  },
  "toc": {
   "base_numbering": 1,
   "nav_menu": {},
   "number_sections": true,
   "sideBar": true,
   "skip_h1_title": false,
   "title_cell": "Table of Contents",
   "title_sidebar": "Contents",
   "toc_cell": false,
   "toc_position": {},
   "toc_section_display": true,
   "toc_window_display": false
  }
 },
 "nbformat": 4,
 "nbformat_minor": 5
}
