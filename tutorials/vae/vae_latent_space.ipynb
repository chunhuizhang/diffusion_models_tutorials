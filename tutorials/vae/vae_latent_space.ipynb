{
 "cells": [
  {
   "cell_type": "code",
   "execution_count": 4,
   "id": "72185ab3-d173-430b-8ee2-137995311c6e",
   "metadata": {
    "execution": {
     "iopub.execute_input": "2025-01-18T14:55:03.243341Z",
     "iopub.status.busy": "2025-01-18T14:55:03.242164Z",
     "iopub.status.idle": "2025-01-18T14:55:03.249304Z",
     "shell.execute_reply": "2025-01-18T14:55:03.247966Z",
     "shell.execute_reply.started": "2025-01-18T14:55:03.243291Z"
    }
   },
   "outputs": [],
   "source": [
    "from IPython.display import Image"
   ]
  },
  {
   "cell_type": "markdown",
   "id": "37f006c4-697a-4647-b69d-1837d3fb0568",
   "metadata": {},
   "source": [
    "### vae recap"
   ]
  },
  {
   "cell_type": "markdown",
   "id": "225faf0f-4d94-4d93-8a42-f621a0dd8a67",
   "metadata": {},
   "source": [
    "- Variational autoencoder addresses the issue of **non-regularized latent space** in autoencoder and provides the **generative capability** to the entire space.\n",
    "    - AutoEncoder 不是生成模型（是用来做压缩重构的），VAE 是生成模型；\n",
    "    - VAE 训练是学习数据的概率分布，生成是基于从该概率分布中采样的点；\n",
    "    - The encoder in the AE outputs **latent vectors**.\n",
    "    - Instead of outputting the vectors in the latent space, the encoder of VAE outputs parameters of a pre-defined distribution in the latent space for every input.\n",
    "        - The VAE then imposes a constraint on this latent distribution forcing it to be **a normal distribution**. This constraint makes sure that the latent space is regularized.\n",
    "- loss function\n",
    "  - sum of batch\n",
    "      - `recon_x.shape`: (bs, 784)\n",
    "      - `log_var/mu.shape`: (bs, 2)\n",
    "    ```\n",
    "    def loss_function(recon_x, x, mu, log_var):\n",
    "        BCE = F.binary_cross_entropy(recon_x, x.view(-1, 784), reduction='sum')\n",
    "        KLD = -0.5 * torch.sum(1 + log_var - mu.pow(2) - log_var.exp())\n",
    "        return BCE, KLD\n",
    "    ```\n",
    "- latent space dimension\n",
    "    - $\\mu, \\log(\\sigma^2)$\n",
    "    - 维度可调\n",
    "    - 显然更高的维度，意味着更低的 bce loss（也许更高的 kld loss）\n",
    "        - 2维只是为了可视化和后续生成的方便\n",
    "- encode & sample & decode\n",
    "    ```\n",
    "    def forward(self, x):\n",
    "        mu, log_var = self.encoder(x.view(-1, 784))\n",
    "        z = self.sampling(mu, log_var)\n",
    "        return self.decoder(z), mu, log_var\n",
    "    ```\n"
   ]
  },
  {
   "cell_type": "markdown",
   "id": "c525174e-0f08-49b4-9fbf-4013155f870b",
   "metadata": {},
   "source": [
    "### latent space"
   ]
  },
  {
   "cell_type": "markdown",
   "id": "cfb2f2df-cc4f-48d9-8f2d-17e57f3728bd",
   "metadata": {},
   "source": [
    "- vectors sampled from overlaping distribution generates **morphed** data."
   ]
  },
  {
   "cell_type": "code",
   "execution_count": 5,
   "id": "4fc3dd59-e29a-490a-a2d7-e22df84d0213",
   "metadata": {
    "execution": {
     "iopub.execute_input": "2025-01-18T14:55:05.779998Z",
     "iopub.status.busy": "2025-01-18T14:55:05.779233Z",
     "iopub.status.idle": "2025-01-18T14:55:05.788824Z",
     "shell.execute_reply": "2025-01-18T14:55:05.787535Z",
     "shell.execute_reply.started": "2025-01-18T14:55:05.779947Z"
    }
   },
   "outputs": [
    {
     "data": {
      "text/html": [
       "<img src=\"https://miro.medium.com/v2/resize:fit:1400/format:webp/1*p_xiH7i5QDzATqWdjb4a8w.png\" width=\"600\"/>"
      ],
      "text/plain": [
       "<IPython.core.display.Image object>"
      ]
     },
     "execution_count": 5,
     "metadata": {},
     "output_type": "execute_result"
    }
   ],
   "source": [
    "Image(url='https://miro.medium.com/v2/resize:fit:1400/format:webp/1*p_xiH7i5QDzATqWdjb4a8w.png', width=600)"
   ]
  }
 ],
 "metadata": {
  "kernelspec": {
   "display_name": "Python 3 (ipykernel)",
   "language": "python",
   "name": "python3"
  },
  "language_info": {
   "codemirror_mode": {
    "name": "ipython",
    "version": 3
   },
   "file_extension": ".py",
   "mimetype": "text/x-python",
   "name": "python",
   "nbconvert_exporter": "python",
   "pygments_lexer": "ipython3",
   "version": "3.10.13"
  }
 },
 "nbformat": 4,
 "nbformat_minor": 5
}
