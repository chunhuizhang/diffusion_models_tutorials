{
 "cells": [
  {
   "cell_type": "markdown",
   "id": "28878029-89d5-45df-ace1-5cc79128f948",
   "metadata": {},
   "source": [
    "$$\n",
    "p(x)=\\int p(z)p(x|z)dz.\n",
    "$$\n",
    "\n",
    "$$\n",
    "\\log p(x) \\geq \\mathbb{E}_{q(z|x)}[\\log p(x|z)] - D_{\\text{KL}}(q(z|x)||p(z))\n",
    "$$\n",
    "\n",
    "- 证据下界 (Evidence Lower Bound, ELBO)\n",
    "    - 既然无法直接最大化 log p(x)，那我们就去最大化它的下界。下界被抬得越高，log p(x) 的真实值也就会越高。\n",
    "    - $q(z|x)$: 近似后验分布 (Approximate Posterior) 或 编码器 (Encoder)。\n",
    "    - $\\mathbb{E}_{q(z|x)}[...]$: 期望。意思是“从鉴赏家 q(z|x) 推断出的各种可能的‘想法’中，我们进行采样，然后计算一个平均值”。\n",
    "- training\n",
    "    - 第一项: $\\mathbb{E}_{q(z|x)}[\\log p(x|z)]$ (重构项 Reconstruction Term)\n",
    "    - 第二项: $D_{\\text{KL}}(q(z|x)||p(z))$ (正则化项 Regularization Term)\n",
    "        - 这一项衡量了“鉴赏家” $q(z|x)$ 推断出的“想法”的分布，与我们预设的“灵感库” $p(z)$ 的分布有多接近。我们希望这个KL散度越小越好（即在它前面有个负号，所以最大化整个ELBO等于最小化KL散度）。\n",
    "- inference\n",
    "    - first infer：$q(z|x)$\n",
    "    - generate new data/decoding\n",
    "        - $z \\sim p(z) \\xrightarrow{\\text{解码器 } p(x|z)} x'$"
   ]
  }
 ],
 "metadata": {
  "kernelspec": {
   "display_name": "Python 3 (ipykernel)",
   "language": "python",
   "name": "python3"
  },
  "language_info": {
   "codemirror_mode": {
    "name": "ipython",
    "version": 3
   },
   "file_extension": ".py",
   "mimetype": "text/x-python",
   "name": "python",
   "nbconvert_exporter": "python",
   "pygments_lexer": "ipython3",
   "version": "3.10.0"
  }
 },
 "nbformat": 4,
 "nbformat_minor": 5
}
