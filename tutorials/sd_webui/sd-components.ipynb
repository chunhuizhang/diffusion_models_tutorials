{
 "cells": [
  {
   "cell_type": "markdown",
   "id": "32e37bcb-d3aa-4b60-b7aa-ef68ef4886cd",
   "metadata": {},
   "source": [
    "### components"
   ]
  },
  {
   "cell_type": "markdown",
   "id": "d5a60eae-c403-4177-abe4-a0bea6b4d09e",
   "metadata": {},
   "source": [
    "- latent space:\n",
    "    - 原始图像的压缩\n",
    "- VAE\n",
    "    - encoder\n",
    "        - [resblocks -> downsample 2x]*3 -> resblocks -> attention\n",
    "            - 2*3 downsample 8, 512 => 64\n",
    "    - decoder\n",
    "        - 反过来\n",
    "- CLIP\n",
    "    - CLIP-L：768,12 block\n",
    "    - CLIP-H：1024,24 block\n",
    "- prompt => clip => text embedding\n",
    "    - words => tokens\n",
    "    - tokens -> embeddings\n",
    "    - embeddings -> transformer -> text embedding output\n",
    "        - 通常使用[CLS]/[EOS]标记的隐藏状态作为文本的全局表示。\n",
    "        - 全连接层：将文本特征映射到嵌入空间，得到文本嵌入向量。\n",
    "- text embedding => [UNet]*sample step => generated Latent image\n",
    "- latent image => VAE decoder => image"
   ]
  },
  {
   "cell_type": "markdown",
   "id": "a89d3327-c8b7-453b-996e-f41bb8fbc1fe",
   "metadata": {},
   "source": [
    "```mermaid\n",
    "flowchart TD\n",
    "    %% 图像编码器流程\n",
    "    subgraph 图像编码器流程\n",
    "        A[\"输入图像\n",
    "(4, 3, 224, 224)\"] --> B[\"图像预处理\n",
    "(归一化、调整尺寸)\"]\n",
    "        B --> C[\"Patch Embedding\n",
    "(4, 256, 1024)\"]\n",
    "        C --> D[\"添加位置编码\n",
    "(4, 256, 1024)\"]\n",
    "        D --> E[\"24 层 Transformer 编码器\n",
    "(4, 256, 1024)\"]\n",
    "        E --> F[\"取 [CLS] 标记\n",
    "(4, 1024)\"]\n",
    "        F --> G[\"图像嵌入向量\n",
    "(4, 1024)\"]\n",
    "        G --> H[\"归一化图像嵌入\n",
    "(4, 1024)\"]\n",
    "    end\n",
    "\n",
    "    %% 文本编码器流程\n",
    "    subgraph 文本编码器流程\n",
    "        A1[\"输入文本\n",
    "(4, 句子)\"] --> B1[\"分词与 Tokenization\n",
    "(4, 77)\"]\n",
    "        B1 --> C1[\"词嵌入层\n",
    "(4, 77, 768)\"]\n",
    "        C1 --> D1[\"添加位置编码\n",
    "(4, 77, 768)\"]\n",
    "        D1 --> E1[\"12 层 Transformer 编码器\n",
    "(4, 77, 768)\"]\n",
    "        E1 --> F1[\"取 [EOS] 标记\n",
    "(4, 768)\"]\n",
    "        F1 --> G1[\"线性层映射到 1024 维\n",
    "(4, 1024)\"]\n",
    "        G1 --> H1[\"归一化文本嵌入\n",
    "(4, 1024)\"]\n",
    "    end\n",
    "\n",
    "    %% 相似度计算和损失\n",
    "    H --- I[\"计算余弦相似度\n",
    "(4, 4)\"]\n",
    "    H1 --- I\n",
    "    I --> J[\"对比学习损失\"]\n",
    "    J --> K[\"参数更新\"]\n",
    "\n",
    "```"
   ]
  },
  {
   "cell_type": "markdown",
   "id": "dd62cdae-174c-4617-af0d-bbe8def07137",
   "metadata": {},
   "source": [
    "### misc"
   ]
  },
  {
   "cell_type": "markdown",
   "id": "2e27f3a1-3e39-4b52-b86d-605770cae32e",
   "metadata": {},
   "source": [
    "- image: (batch_size, channels, height, width), torch\n",
    "    - --opt-channelslast\n",
    "        - channelslast: keras"
   ]
  }
 ],
 "metadata": {
  "kernelspec": {
   "display_name": "Python 3 (ipykernel)",
   "language": "python",
   "name": "python3"
  },
  "language_info": {
   "codemirror_mode": {
    "name": "ipython",
    "version": 3
   },
   "file_extension": ".py",
   "mimetype": "text/x-python",
   "name": "python",
   "nbconvert_exporter": "python",
   "pygments_lexer": "ipython3",
   "version": "3.10.13"
  }
 },
 "nbformat": 4,
 "nbformat_minor": 5
}
