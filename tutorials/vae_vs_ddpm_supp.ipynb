{
 "cells": [
  {
   "cell_type": "markdown",
   "id": "efab913b",
   "metadata": {},
   "source": [
    "## basics"
   ]
  },
  {
   "cell_type": "markdown",
   "id": "6ae9fce4",
   "metadata": {},
   "source": [
    "- VAE 发生在 latent space，DDPM 在 pixel domain\n",
    "- Vae encoder 是 nn learn 出来的，ddpm 的 forward add noise的过程是设计（design，随机化）出来的（不需要学习）\n",
    "- KL\n",
    "    - https://sidml.github.io/Understanding-KL-Divergence/"
   ]
  }
 ],
 "metadata": {
  "kernelspec": {
   "display_name": "Python 3 (ipykernel)",
   "language": "python",
   "name": "python3"
  },
  "language_info": {
   "codemirror_mode": {
    "name": "ipython",
    "version": 3
   },
   "file_extension": ".py",
   "mimetype": "text/x-python",
   "name": "python",
   "nbconvert_exporter": "python",
   "pygments_lexer": "ipython3",
   "version": "3.10.13"
  },
  "toc": {
   "base_numbering": 1,
   "nav_menu": {},
   "number_sections": true,
   "sideBar": true,
   "skip_h1_title": false,
   "title_cell": "Table of Contents",
   "title_sidebar": "Contents",
   "toc_cell": false,
   "toc_position": {},
   "toc_section_display": true,
   "toc_window_display": false
  }
 },
 "nbformat": 4,
 "nbformat_minor": 5
}
