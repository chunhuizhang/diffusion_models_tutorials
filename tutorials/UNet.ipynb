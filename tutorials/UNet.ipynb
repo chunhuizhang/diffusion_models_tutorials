{
 "cells": [
  {
   "cell_type": "markdown",
   "id": "c66d3168",
   "metadata": {},
   "source": [
    "- https://arxiv.org/abs/1505.04597\n",
    "    - U-Net: Convolutional Networks for Biomedical Image Segmentation\n"
   ]
  },
  {
   "cell_type": "code",
   "execution_count": 2,
   "id": "2224488a",
   "metadata": {
    "ExecuteTime": {
     "end_time": "2024-03-05T13:35:04.148391Z",
     "start_time": "2024-03-05T13:35:04.142604Z"
    }
   },
   "outputs": [],
   "source": [
    "from IPython.display import Image"
   ]
  },
  {
   "cell_type": "markdown",
   "id": "6e61e52e",
   "metadata": {},
   "source": [
    "## basics"
   ]
  },
  {
   "cell_type": "markdown",
   "id": "41071ceb",
   "metadata": {},
   "source": [
    "- image input image output\n",
    "    - 最开始要解决的是医学图像分割（medical image segmentation）\n",
    "        - input：image, output：segmentation masks\n",
    "\n",
    "$$\n",
    "\\text{MSE}=\\frac1n\\sum_{i=1}^n(Y_i - \\hat Y_i)^2\n",
    "$$\n",
    "\n",
    "    - 还可以用于图像超分辨率（high resolution）\n",
    "    - diffusion models\n",
    "- unet: encoder & decoder\n",
    "    - encoder: extracting features from input images\n",
    "    - decoder: up sampling intermediate features and producing the final output\n",
    "    - encoder & decoder are symmetrical and connected by paths\n",
    "        - U-shape Net"
   ]
  },
  {
   "cell_type": "markdown",
   "id": "301ac64b",
   "metadata": {},
   "source": [
    "## architecture"
   ]
  },
  {
   "cell_type": "markdown",
   "id": "f35b19a0",
   "metadata": {},
   "source": [
    "- encoder\n",
    "    - Repeated 3*3 conv + ReLU layers\n",
    "        - 572 \\* 572 -> 570 \\* 570 -> 568 \\* 568\n",
    "    - 2*2 maxpooling layers to downsample\n",
    "        - 568 -> 284\n",
    "        - 280 -> 140\n",
    "    - double channels with conv after maxpooling\n",
    "        - 64 -> 128 -> 256\n",
    "- decoder\n",
    "    - repeated 3*3 conv + ReLU layers\n",
    "    - Upsampling, followed by 2*2 conv layer\n",
    "    - halve channels after upsampling conv\n",
    "- connections: bottleneck & connecting paths\n",
    "    - bottleneck\n",
    "    - connecting paths：\n",
    "        - 添加 encoder 的细节信息；\n",
    "        - 实现上，在 depth/channels 上做拼接；\n"
   ]
  },
  {
   "cell_type": "code",
   "execution_count": 3,
   "id": "249967ee",
   "metadata": {
    "ExecuteTime": {
     "end_time": "2024-03-05T13:35:06.011960Z",
     "start_time": "2024-03-05T13:35:05.995309Z"
    }
   },
   "outputs": [
    {
     "data": {
      "text/html": [
       "<img src=\"https://huggingface.co/blog/assets/78_annotated-diffusion/unet_architecture.jpg\" width=\"700\"/>"
      ],
      "text/plain": [
       "<IPython.core.display.Image object>"
      ]
     },
     "execution_count": 3,
     "metadata": {},
     "output_type": "execute_result"
    }
   ],
   "source": [
    "# https://arxiv.org/abs/1505.04597\n",
    "Image(url='https://huggingface.co/blog/assets/78_annotated-diffusion/unet_architecture.jpg', width=700)"
   ]
  },
  {
   "cell_type": "code",
   "execution_count": 4,
   "id": "ba51bd01",
   "metadata": {
    "ExecuteTime": {
     "end_time": "2024-03-05T13:35:09.427818Z",
     "start_time": "2024-03-05T13:35:09.416906Z"
    }
   },
   "outputs": [
    {
     "data": {
      "text/html": [
       "<img src=\"https://camo.githubusercontent.com/2c676413dda1f487521dd5c1e5c4b35b8cfbf06d50880e15660ea44bd76eac6f/68747470733a2f2f68756767696e67666163652e636f2f64617461736574732f68756767696e67666163652f646f63756d656e746174696f6e2d696d616765732f7265736f6c76652f6d61696e2f756e65742d6d6f64656c2e706e67\" width=\"600\"/>"
      ],
      "text/plain": [
       "<IPython.core.display.Image object>"
      ]
     },
     "execution_count": 4,
     "metadata": {},
     "output_type": "execute_result"
    }
   ],
   "source": [
    "Image(url='https://camo.githubusercontent.com/2c676413dda1f487521dd5c1e5c4b35b8cfbf06d50880e15660ea44bd76eac6f/68747470733a2f2f68756767696e67666163652e636f2f64617461736574732f68756767696e67666163652f646f63756d656e746174696f6e2d696d616765732f7265736f6c76652f6d61696e2f756e65742d6d6f64656c2e706e67', \n",
    "              width=600)"
   ]
  },
  {
   "cell_type": "markdown",
   "id": "e54b0cfa",
   "metadata": {},
   "source": [
    "## UNet => DiT"
   ]
  },
  {
   "cell_type": "code",
   "execution_count": null,
   "id": "971ee914",
   "metadata": {},
   "outputs": [],
   "source": []
  }
 ],
 "metadata": {
  "kernelspec": {
   "display_name": "Python 3 (ipykernel)",
   "language": "python",
   "name": "python3"
  },
  "language_info": {
   "codemirror_mode": {
    "name": "ipython",
    "version": 3
   },
   "file_extension": ".py",
   "mimetype": "text/x-python",
   "name": "python",
   "nbconvert_exporter": "python",
   "pygments_lexer": "ipython3",
   "version": "3.10.13"
  },
  "toc": {
   "base_numbering": 1,
   "nav_menu": {},
   "number_sections": true,
   "sideBar": true,
   "skip_h1_title": false,
   "title_cell": "Table of Contents",
   "title_sidebar": "Contents",
   "toc_cell": false,
   "toc_position": {},
   "toc_section_display": true,
   "toc_window_display": false
  }
 },
 "nbformat": 4,
 "nbformat_minor": 5
}
