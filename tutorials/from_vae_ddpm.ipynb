{
 "cells": [
  {
   "cell_type": "markdown",
   "id": "9511836c-663a-4781-a75c-bb78658955d3",
   "metadata": {},
   "source": [
    "- vae 一步生成 $p(x|z)$\n",
    "    - 高尔夫一杆进洞；"
   ]
  }
 ],
 "metadata": {
  "kernelspec": {
   "display_name": "Python 3 (ipykernel)",
   "language": "python",
   "name": "python3"
  },
  "language_info": {
   "codemirror_mode": {
    "name": "ipython",
    "version": 3
   },
   "file_extension": ".py",
   "mimetype": "text/x-python",
   "name": "python",
   "nbconvert_exporter": "python",
   "pygments_lexer": "ipython3",
   "version": "3.10.0"
  }
 },
 "nbformat": 4,
 "nbformat_minor": 5
}
