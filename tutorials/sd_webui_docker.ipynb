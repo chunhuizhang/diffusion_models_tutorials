{
 "cells": [
  {
   "cell_type": "markdown",
   "id": "4dc4c88e",
   "metadata": {},
   "source": [
    "## basics"
   ]
  },
  {
   "cell_type": "markdown",
   "id": "8ce2d037",
   "metadata": {},
   "source": [
    "- references\n",
    "    - https://github.com/AbdBarho/stable-diffusion-webui-docker\n",
    "        - https://github.com/AbdBarho/stable-diffusion-webui-docker/wiki/Setup\n",
    "\n",
    "        ```\n",
    "        $ git clone https://github.com/AbdBarho/stable-diffusion-webui-docker.git\n",
    "        \n",
    "        $ docker compose --profile download up --build\n",
    "        # wait until its done, then:\n",
    "        \n",
    "        $ docker compose --profile [ui] up --build\n",
    "        # where [ui] is one of: invoke | auto | auto-cpu | comfy | comfy-cpu\n",
    "        ```\n",
    "\n",
    "        - 会自动下载的镜像是 `webui-docker-download`（通过 docker images 命令查看）"
   ]
  }
 ],
 "metadata": {
  "kernelspec": {
   "display_name": "Python 3 (ipykernel)",
   "language": "python",
   "name": "python3"
  },
  "language_info": {
   "codemirror_mode": {
    "name": "ipython",
    "version": 3
   },
   "file_extension": ".py",
   "mimetype": "text/x-python",
   "name": "python",
   "nbconvert_exporter": "python",
   "pygments_lexer": "ipython3",
   "version": "3.10.9"
  },
  "toc": {
   "base_numbering": 1,
   "nav_menu": {},
   "number_sections": true,
   "sideBar": true,
   "skip_h1_title": false,
   "title_cell": "Table of Contents",
   "title_sidebar": "Contents",
   "toc_cell": false,
   "toc_position": {},
   "toc_section_display": true,
   "toc_window_display": false
  }
 },
 "nbformat": 4,
 "nbformat_minor": 5
}
