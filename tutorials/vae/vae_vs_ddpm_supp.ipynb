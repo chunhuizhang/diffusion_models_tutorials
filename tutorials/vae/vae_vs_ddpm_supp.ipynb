{
 "cells": [
  {
   "cell_type": "markdown",
   "id": "efab913b",
   "metadata": {},
   "source": [
    "## basics"
   ]
  },
  {
   "cell_type": "markdown",
   "id": "6ae9fce4",
   "metadata": {},
   "source": [
    "- VAE 发生在 latent space，DDPM 在 pixel domain\n",
    "- Vae encoder 是 nn learn 出来的，ddpm 的 forward add noise的过程是设计（design，随机化）出来的（不需要学习）\n",
    "- KL\n",
    "    - https://sidml.github.io/Understanding-KL-Divergence/"
   ]
  },
  {
   "cell_type": "markdown",
   "id": "982f7287",
   "metadata": {},
   "source": [
    "## ddpm"
   ]
  },
  {
   "cell_type": "markdown",
   "id": "a1a91034",
   "metadata": {},
   "source": [
    "- diffusion based models 提供了一种逐步解决问题的范式，即非一次解决（一杆进洞（高尔夫球），一步到位）\n",
    "    - 某种意义上也是一种 auto-regressive\n",
    "    - diffusion 会显著地提升图像生成的效果，最大的启发即是，可以给一些非 auto-regressive 的模型，引入 auto-regressive（N次到位） 的机制；"
   ]
  }
 ],
 "metadata": {
  "kernelspec": {
   "display_name": "Python 3 (ipykernel)",
   "language": "python",
   "name": "python3"
  },
  "language_info": {
   "codemirror_mode": {
    "name": "ipython",
    "version": 3
   },
   "file_extension": ".py",
   "mimetype": "text/x-python",
   "name": "python",
   "nbconvert_exporter": "python",
   "pygments_lexer": "ipython3",
   "version": "3.10.13"
  },
  "toc": {
   "base_numbering": 1,
   "nav_menu": {},
   "number_sections": true,
   "sideBar": true,
   "skip_h1_title": false,
   "title_cell": "Table of Contents",
   "title_sidebar": "Contents",
   "toc_cell": false,
   "toc_position": {},
   "toc_section_display": true,
   "toc_window_display": false
  }
 },
 "nbformat": 4,
 "nbformat_minor": 5
}
