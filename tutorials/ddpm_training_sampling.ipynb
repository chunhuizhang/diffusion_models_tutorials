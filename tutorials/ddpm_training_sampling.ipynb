{
 "cells": [
  {
   "cell_type": "code",
   "execution_count": 1,
   "id": "12ce409a",
   "metadata": {
    "ExecuteTime": {
     "end_time": "2024-03-01T13:28:56.901453Z",
     "start_time": "2024-03-01T13:28:56.885433Z"
    }
   },
   "outputs": [],
   "source": [
    "from IPython.display import Image"
   ]
  },
  {
   "cell_type": "code",
   "execution_count": 2,
   "id": "0bd9b6e9",
   "metadata": {
    "ExecuteTime": {
     "end_time": "2024-03-01T13:29:08.995128Z",
     "start_time": "2024-03-01T13:29:08.978791Z"
    }
   },
   "outputs": [
    {
     "data": {
      "text/html": [
       "<img src=\"https://i.imgur.com/S7KH5hZ.png\" width=\"600\"/>"
      ],
      "text/plain": [
       "<IPython.core.display.Image object>"
      ]
     },
     "execution_count": 2,
     "metadata": {},
     "output_type": "execute_result"
    }
   ],
   "source": [
    "Image(url='https://i.imgur.com/S7KH5hZ.png', width=600)"
   ]
  },
  {
   "cell_type": "markdown",
   "id": "e943567c",
   "metadata": {},
   "source": [
    "## Training"
   ]
  },
  {
   "cell_type": "markdown",
   "id": "ebbb864d",
   "metadata": {},
   "source": [
    "$$\n",
    "\\nabla_\\theta\\|\\underbrace{\\epsilon}_{\\text{target noise}} - \\underbrace{\\epsilon_\\theta(\\underbrace{\\sqrt{\\bar\\alpha_t}x_0+\\sqrt{1-\\bar\\alpha_t}\\epsilon}_{\\text{noisy image: }x_t}, t)}_{\\text{predict noise}}\\|^2\n",
    "$$\n",
    "\n",
    "- $\\epsilon$: target noise\n",
    "- $\\sqrt{\\bar\\alpha_t}x_0+\\sqrt{1-\\bar\\alpha_t}\\epsilon$: noisy image\n",
    "- $\\epsilon_\\theta(\\cdot, t)$: neural network becomes a **noise predictor**,\n",
    "    - $\\epsilon_\\theta(, t)$：neural Network\n",
    "        - unet\n",
    "- $\\epsilon_\\theta(x_t,t)$：预测的是添加进 $x_t$ 上的 noise（added noise）；\n",
    "- 这个loss是真实误差与预测误差的差的平方；"
   ]
  },
  {
   "cell_type": "markdown",
   "id": "5e7917e2",
   "metadata": {},
   "source": [
    "## Sampling"
   ]
  },
  {
   "cell_type": "markdown",
   "id": "bd2920dd",
   "metadata": {},
   "source": [
    "$$\n",
    "x_{t-1}=\\underbrace{\\frac{1}{\\sqrt{\\alpha_t}}\\left(x_t-\\frac{1-\\alpha_t}{\\sqrt{1-\\bar{\\alpha_t}}}\\epsilon_\\theta(x_t,t)\\right)}_{\\mu_\\theta(x_t,t)}+\\underbrace{\\sigma_tz}_{\\text{reparameterize}}\n",
    "$$\n",
    "\n",
    "- $\\epsilon_\\theta(x_t, t)$ unet denoising model\n",
    "    - input: $(x_t, t)$\n",
    "- $\\sigma_tz$：重参数化；    \n",
    "- 右侧部分（不加重参数化的 $\\sigma_tz$），可以视为 $\\mu_\\theta(x_t,t)$（mean predictor，概率分布均值的估计）\n",
    "\n",
    "- 抛开这个 noise （$\\sigma_tz$）不谈，\n",
    "    - $\\epsilon_\\theta(x_t,t)$：预测的是添加进 $x_t$ 上的 noise（added noise）；\n",
    "\n",
    "$$\n",
    "x_{t-1}=\\frac{1}{\\sqrt{\\alpha_t}}\\left(x_t-\\frac{1-\\alpha_t}{\\sqrt{1-\\bar{\\alpha_t}}}\\epsilon_\\theta(x_t,t)\\right)\\\\\n",
    "\\sqrt{\\alpha_t}x_{t-1}+\\frac{1-\\alpha_t}{\\sqrt{1-\\bar\\alpha_t}}\\epsilon_\\theta(x_t,t)=x_t\n",
    "$$"
   ]
  },
  {
   "cell_type": "code",
   "execution_count": null,
   "id": "88121439",
   "metadata": {},
   "outputs": [],
   "source": []
  }
 ],
 "metadata": {
  "kernelspec": {
   "display_name": "Python 3 (ipykernel)",
   "language": "python",
   "name": "python3"
  },
  "language_info": {
   "codemirror_mode": {
    "name": "ipython",
    "version": 3
   },
   "file_extension": ".py",
   "mimetype": "text/x-python",
   "name": "python",
   "nbconvert_exporter": "python",
   "pygments_lexer": "ipython3",
   "version": "3.10.13"
  },
  "toc": {
   "base_numbering": 1,
   "nav_menu": {},
   "number_sections": true,
   "sideBar": true,
   "skip_h1_title": false,
   "title_cell": "Table of Contents",
   "title_sidebar": "Contents",
   "toc_cell": false,
   "toc_position": {},
   "toc_section_display": true,
   "toc_window_display": false
  }
 },
 "nbformat": 4,
 "nbformat_minor": 5
}
