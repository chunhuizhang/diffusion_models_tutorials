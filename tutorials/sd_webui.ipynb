{
 "cells": [
  {
   "cell_type": "markdown",
   "id": "9ddb13a5",
   "metadata": {},
   "source": [
    "## 基础 install 及 launch"
   ]
  },
  {
   "cell_type": "markdown",
   "id": "35adc862",
   "metadata": {},
   "source": [
    "- https://github.com/AUTOMATIC1111/stable-diffusion-webui.git\n",
    "- sd weights\n",
    "    - https://huggingface.co/CompVis/stable-diffusion-v-1-4-original\n",
    "        - 下载之后放在 `models/Stable-diffusion` 的目录下\n",
    "    - https://github.com/TencentARC/GFPGAN:  Practical Algorithm for Real-world Face Restoration."
   ]
  },
  {
   "cell_type": "markdown",
   "id": "fb6775a8",
   "metadata": {},
   "source": [
    "- `./webui.sh`\n",
    "    - 启动过程\n",
    "        - `Create and activate python venv`\n",
    "            - `python -m venv venv`\n",
    "            - `source ./venv/bin/activate`\n",
    "        - 会在当前根目录创建 `venv` 的表示虚拟环境的文件夹\n",
    "        - 自动在当前文件夹下创建 `repositories`\n",
    "            - 并自动下载一堆github工程\n",
    "    - 当看到 `Running on local URL:  http://127.0.0.1:7860` 表示启动成功\n",
    "        - `ssh -L 7860:localhost:7860 servername`：本机跳转到服务器端"
   ]
  },
  {
   "cell_type": "markdown",
   "id": "e83ee0b9",
   "metadata": {},
   "source": [
    "## advanced 配置"
   ]
  },
  {
   "cell_type": "markdown",
   "id": "8fe01146",
   "metadata": {},
   "source": [
    "- `webui-user.sh`\n",
    "- `launch.py`"
   ]
  }
 ],
 "metadata": {
  "kernelspec": {
   "display_name": "Python 3 (ipykernel)",
   "language": "python",
   "name": "python3"
  },
  "language_info": {
   "codemirror_mode": {
    "name": "ipython",
    "version": 3
   },
   "file_extension": ".py",
   "mimetype": "text/x-python",
   "name": "python",
   "nbconvert_exporter": "python",
   "pygments_lexer": "ipython3",
   "version": "3.10.9"
  },
  "toc": {
   "base_numbering": 1,
   "nav_menu": {},
   "number_sections": true,
   "sideBar": true,
   "skip_h1_title": false,
   "title_cell": "Table of Contents",
   "title_sidebar": "Contents",
   "toc_cell": false,
   "toc_position": {},
   "toc_section_display": true,
   "toc_window_display": false
  }
 },
 "nbformat": 4,
 "nbformat_minor": 5
}
