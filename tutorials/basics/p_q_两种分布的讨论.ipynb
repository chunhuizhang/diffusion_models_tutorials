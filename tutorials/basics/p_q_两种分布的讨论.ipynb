{
 "cells": [
  {
   "cell_type": "markdown",
   "id": "5d9d6da2",
   "metadata": {},
   "source": [
    "## max MLE == min KL"
   ]
  },
  {
   "cell_type": "markdown",
   "id": "3f4ae607",
   "metadata": {},
   "source": [
    "$$\n",
    "\\begin{split}\n",
    "&\\theta^\\star=\\arg\\max_{\\theta}\\Pi_{i=1}^Np_\\theta(x^i)\\\\\n",
    "&\\arg\\min_\\theta KL(p_{data}||p_\\theta)=\\arg\\min_\\theta\\int_x p_{data}(x)\\log\\frac{p_{data}(x)}{p_\\theta(x)}dx\n",
    "\\end{split}\n",
    "$$\n",
    "\n",
    "- $p_{data}(\\cdot)$: 真实的数据分布；\n",
    "- $p_\\theta(\\cdot)$：模型训练得到的分布；"
   ]
  },
  {
   "cell_type": "code",
   "execution_count": 1,
   "id": "30a51b31",
   "metadata": {
    "ExecuteTime": {
     "end_time": "2024-02-29T13:57:40.715335Z",
     "start_time": "2024-02-29T13:57:40.258279Z"
    }
   },
   "outputs": [
    {
     "name": "stdout",
     "output_type": "stream",
     "text": [
      "MLE估计的参数: μ = -0.05, σ = 0.99\n",
      "通过最小化KL散度估计的参数: μ = 0.00, σ = 1.00\n"
     ]
    }
   ],
   "source": [
    "import numpy as np\n",
    "from scipy.stats import norm\n",
    "from scipy.optimize import minimize\n",
    "\n",
    "# 生成一些模拟数据\n",
    "np.random.seed(0)\n",
    "true_mu, true_sigma = 0, 1\n",
    "data = np.random.normal(true_mu, true_sigma, 1000)\n",
    "\n",
    "# 最大似然估计\n",
    "def MLE(params):\n",
    "    mu, sigma = params\n",
    "    LL = np.sum(norm.logpdf(data, mu, sigma))\n",
    "    return -LL  # 我们需要最小化的是负对数似然\n",
    "\n",
    "mle_result = minimize(MLE, np.array([0, 1]), method='L-BFGS-B')\n",
    "print(f\"MLE估计的参数: μ = {mle_result.x[0]:.2f}, σ = {mle_result.x[1]:.2f}\")\n",
    "\n",
    "# 最小化KL散度\n",
    "def KL_divergence(params):\n",
    "    mu, sigma = params\n",
    "    # 在这个示例中，我们简化问题，假设我们知道真实的μ和σ\n",
    "    KL = np.log(true_sigma/sigma) + (sigma**2 + (mu - true_mu)**2) / (2 * true_sigma**2) - 0.5\n",
    "    return KL\n",
    "\n",
    "kl_result = minimize(KL_divergence, np.array([0, 1]), method='L-BFGS-B')\n",
    "print(f\"通过最小化KL散度估计的参数: μ = {kl_result.x[0]:.2f}, σ = {kl_result.x[1]:.2f}\")\n"
   ]
  },
  {
   "cell_type": "code",
   "execution_count": null,
   "id": "78aa5751",
   "metadata": {},
   "outputs": [],
   "source": []
  }
 ],
 "metadata": {
  "kernelspec": {
   "display_name": "Python 3 (ipykernel)",
   "language": "python",
   "name": "python3"
  },
  "language_info": {
   "codemirror_mode": {
    "name": "ipython",
    "version": 3
   },
   "file_extension": ".py",
   "mimetype": "text/x-python",
   "name": "python",
   "nbconvert_exporter": "python",
   "pygments_lexer": "ipython3",
   "version": "3.10.0"
  },
  "toc": {
   "base_numbering": 1,
   "nav_menu": {},
   "number_sections": true,
   "sideBar": true,
   "skip_h1_title": false,
   "title_cell": "Table of Contents",
   "title_sidebar": "Contents",
   "toc_cell": false,
   "toc_position": {},
   "toc_section_display": true,
   "toc_window_display": false
  }
 },
 "nbformat": 4,
 "nbformat_minor": 5
}
