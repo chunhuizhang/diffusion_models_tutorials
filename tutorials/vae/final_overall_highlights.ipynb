{
 "cells": [
  {
   "cell_type": "markdown",
   "id": "cd634eaa-865f-474b-91c3-71a02017e225",
   "metadata": {},
   "source": [
    "- posterior inference：$p_\\theta(z|x)$"
   ]
  },
  {
   "cell_type": "markdown",
   "id": "db4f9b26-478f-4d06-ab33-7bc49120b3f6",
   "metadata": {},
   "source": [
    "### ELBO"
   ]
  },
  {
   "cell_type": "markdown",
   "id": "f0a0964d-bd6b-492c-87cf-6ecc9175a152",
   "metadata": {},
   "source": [
    "https://en.wikipedia.org/wiki/Evidence_lower_bound\n",
    "- 两个最常用的 formula\n",
    "    - $q_\\phi(z|x)$ 是 encoder，$p_\\theta(x|z)$ 是 decoder\n",
    "    - $\\mathbb{E}_{q_\\phi(z|x)}[\\log p_\\theta(x|z)]$ 刻画的是重构；\n",
    "    - $D_{\\text{KL}}(q_\\phi(z|x)||p(z))$ 刻画的是 $z$ 空间的正则；\n",
    "\n",
    "$$\n",
    "\\log p(x) \\geq \\mathbb{E}_{q_\\phi(z|x)}[\\log p_\\theta(x|z)] - D_{\\text{KL}}(q_\\phi(z|x)||p(z))\n",
    "$$\n",
    "$$\n",
    "L(\\phi, \\theta; x) := \\mathbb E_{z\\sim q_\\phi(\\cdot | x)} \\left[ \\ln\\frac{p_\\theta(x,  z)}{q_\\phi(z|x)} \\right]\n",
    "$$"
   ]
  }
 ],
 "metadata": {
  "kernelspec": {
   "display_name": "Python 3 (ipykernel)",
   "language": "python",
   "name": "python3"
  },
  "language_info": {
   "codemirror_mode": {
    "name": "ipython",
    "version": 3
   },
   "file_extension": ".py",
   "mimetype": "text/x-python",
   "name": "python",
   "nbconvert_exporter": "python",
   "pygments_lexer": "ipython3",
   "version": "3.10.0"
  }
 },
 "nbformat": 4,
 "nbformat_minor": 5
}
