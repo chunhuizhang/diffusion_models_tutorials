{
 "cells": [
  {
   "cell_type": "markdown",
   "id": "29061294-14c6-4c3e-97d3-14c166a3a211",
   "metadata": {},
   "source": [
    "### kld"
   ]
  },
  {
   "cell_type": "markdown",
   "id": "ffa53256-cd1d-422e-8986-4f04d19d1aae",
   "metadata": {},
   "source": [
    "```python\n",
    "kl_div = -0.5 * torch.sum(1 + log_var - mu.pow(2) - log_var.exp())\n",
    "```\n",
    "\n",
    "-  $D_{KL}(Q(z|X) || P(z))$ where P(z) is N(0, I)\n",
    "    -  $-\\frac12\\sum (1+\\log\\sigma^2-\\mu^2-\\sigma^2)$\n",
    "    -  对角高斯分布 (Diagonal Gaussian): 为了简化计算，我们做一个重要假设：隐空间的各个维度之间是相互独立的。这意味着描述这个多维高斯分布的协方差矩阵是一个对角矩阵（只有对角线上有值，其余都为0）。\n",
    "    -  $D_{KL}( \\mathcal{N}(\\mu, \\sigma^2 I) \\ || \\ \\mathcal{N}(0, I))$\n",
    "        -  两个 $d$ 维高斯分布，$P_1 = \\mathcal{N}(\\mu_1, \\Sigma_1)$, $P_2 = \\mathcal{N}(\\mu_2, \\Sigma_2)$\n",
    "        -  $D_{KL}(P_1 || P_2) = \\frac{1}{2} \\left( \\text{tr}(\\Sigma_2^{-1}\\Sigma_1) + (\\mu_2 - \\mu_1)^T \\Sigma_2^{-1} (\\mu_2 - \\mu_1) - d + \\ln\\left(\\frac{\\det \\Sigma_2}{\\det \\Sigma_1}\\right) \\right)$\n",
    "        - 我们这里的 $\\mu_1 = \\mu, \\Sigma_1 = \\text{diag}(\\sigma_1^2, ..., \\sigma_d^2) = \\sigma^2 I$，$\\mu_2 = 0, \\Sigma_2 = I$\n",
    "        - $D_{KL} = \\frac{1}{2} \\sum_{i=1}^{d} (\\sigma_i^2 + \\mu_i^2 - 1 - \\ln(\\sigma_i^2))$"
   ]
  },
  {
   "cell_type": "markdown",
   "id": "a24eb9c9-e191-4106-b2c9-2f85158c0ac1",
   "metadata": {},
   "source": [
    "### reparameterize trick"
   ]
  },
  {
   "cell_type": "markdown",
   "id": "4ce93804-220c-4101-b05f-c8f2b81a9545",
   "metadata": {},
   "source": [
    "```python\n",
    "def reparameterize(self, mu: Tensor, logvar: Tensor) -> Tensor:\n",
    "    \"\"\"\n",
    "    :param mu: (Tensor) Mean of the latent Gaussian\n",
    "    :param logvar: (Tensor) Standard deviation of the latent Gaussian\n",
    "    :return:\n",
    "    \"\"\"\n",
    "    std = torch.exp(0.5 * logvar)\n",
    "    eps = torch.randn_like(std)\n",
    "    return eps * std + mu\n",
    "```"
   ]
  }
 ],
 "metadata": {
  "kernelspec": {
   "display_name": "Python 3 (ipykernel)",
   "language": "python",
   "name": "python3"
  },
  "language_info": {
   "codemirror_mode": {
    "name": "ipython",
    "version": 3
   },
   "file_extension": ".py",
   "mimetype": "text/x-python",
   "name": "python",
   "nbconvert_exporter": "python",
   "pygments_lexer": "ipython3",
   "version": "3.10.0"
  }
 },
 "nbformat": 4,
 "nbformat_minor": 5
}
