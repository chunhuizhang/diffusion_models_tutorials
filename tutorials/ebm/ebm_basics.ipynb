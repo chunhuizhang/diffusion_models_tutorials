{
 "cells": [
  {
   "cell_type": "markdown",
   "id": "1253f208-0f78-4591-8e10-7a13be919c18",
   "metadata": {},
   "source": [
    "- references\n",
    "    - https://www.youtube.com/watch?v=eAozs_JKp4o"
   ]
  },
  {
   "cell_type": "markdown",
   "id": "9ad9ebfa-2ad7-4986-9d8b-def7dfe9dc90",
   "metadata": {},
   "source": [
    "- can be learned from unlabeled data.\n",
    "    - probabilistic models,\n",
    "    - can be viewed as generative versions of discriminators\n",
    "- two challenges remain for training EBMs on high-dimensional datasets.\n",
    "    - First, learning EBMs by maximum likelihood requires Markov Chain Monte Carlo (MCMC) to generate samples from the model, which can be extremely expensive.\n",
    "    - Second, the energy potentials learned with non-convergent MCMC can be highly biased, making it difficult to evaluate the learned energy potentials or apply the learned models to downstream tasks."
   ]
  }
 ],
 "metadata": {
  "kernelspec": {
   "display_name": "Python 3 (ipykernel)",
   "language": "python",
   "name": "python3"
  },
  "language_info": {
   "codemirror_mode": {
    "name": "ipython",
    "version": 3
   },
   "file_extension": ".py",
   "mimetype": "text/x-python",
   "name": "python",
   "nbconvert_exporter": "python",
   "pygments_lexer": "ipython3",
   "version": "3.10.13"
  }
 },
 "nbformat": 4,
 "nbformat_minor": 5
}
