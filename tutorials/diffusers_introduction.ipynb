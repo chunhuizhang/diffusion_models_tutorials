{
 "cells": [
  {
   "cell_type": "code",
   "execution_count": null,
   "id": "1db252e6",
   "metadata": {
    "ExecuteTime": {
     "end_time": "2024-02-25T09:55:51.962945Z",
     "start_time": "2024-02-25T09:55:51.956640Z"
    }
   },
   "outputs": [],
   "source": [
    "# !pip install --upgrade diffusers"
   ]
  },
  {
   "cell_type": "code",
   "execution_count": 4,
   "id": "5cf58d2e",
   "metadata": {
    "ExecuteTime": {
     "end_time": "2024-03-10T09:20:56.221947Z",
     "start_time": "2024-03-10T09:20:56.215766Z"
    }
   },
   "outputs": [],
   "source": [
    "import os\n",
    "os.environ['http_proxy'] = 'http://127.0.0.1:7890'\n",
    "os.environ['https_proxy'] = 'http://127.0.0.1:7890'"
   ]
  },
  {
   "cell_type": "code",
   "execution_count": 5,
   "id": "47da3e23",
   "metadata": {
    "ExecuteTime": {
     "end_time": "2024-03-10T09:20:57.541823Z",
     "start_time": "2024-03-10T09:20:57.191139Z"
    }
   },
   "outputs": [],
   "source": [
    "import numpy as np\n",
    "import torch\n",
    "import torch.nn.functional as F\n",
    "from matplotlib import pyplot as plt\n",
    "from PIL import Image\n",
    "from IPython import display"
   ]
  },
  {
   "cell_type": "markdown",
   "id": "56da07f4",
   "metadata": {},
   "source": [
    "## diffusers"
   ]
  },
  {
   "cell_type": "code",
   "execution_count": 2,
   "id": "39e92717",
   "metadata": {
    "ExecuteTime": {
     "end_time": "2024-03-10T09:20:28.804667Z",
     "start_time": "2024-03-10T09:20:24.579557Z"
    }
   },
   "outputs": [
    {
     "name": "stdout",
     "output_type": "stream",
     "text": [
      "[2024-03-10 17:20:25,662] [INFO] [real_accelerator.py:161:get_accelerator] Setting ds_accelerator to cuda (auto detect)\n"
     ]
    }
   ],
   "source": [
    "from diffusers import DDPMScheduler, DDPMPipeline"
   ]
  },
  {
   "cell_type": "code",
   "execution_count": 37,
   "id": "c9a50a64",
   "metadata": {
    "ExecuteTime": {
     "end_time": "2024-03-10T05:38:11.104217Z",
     "start_time": "2024-03-10T05:38:11.055473Z"
    }
   },
   "outputs": [],
   "source": [
    "image_pipe??"
   ]
  },
  {
   "cell_type": "code",
   "execution_count": 35,
   "id": "e91f35b5",
   "metadata": {
    "ExecuteTime": {
     "end_time": "2024-03-10T05:37:09.424698Z",
     "start_time": "2024-03-10T05:37:09.366169Z"
    }
   },
   "outputs": [],
   "source": [
    "DDPMScheduler.step??"
   ]
  },
  {
   "cell_type": "markdown",
   "id": "9d46906e",
   "metadata": {},
   "source": [
    "- pipeline： to generate samples（images）\n",
    "    - `StableDiffusionPipeline`\n",
    "        - 参数\n",
    "            - `guidance_scale`, which determines how much the model will try to match the prompt.\n",
    "    - `DDPMPipeline`\n",
    "        - 构造函数接受两个输入：`(unet, scheduler)`\n",
    "    - `pipe()`/`pipe.__call__()`: sampling/generating process\n",
    "        - from a noise;\n",
    "        - scheduler.\n",
    "- Models\n",
    "    - `UNet` => `transformers` (DiT, diffusion with transformers)\n",
    "    - `from diffusers import UNet2DModel`\n",
    "- Schedulers\n",
    "    - DDPMScheduler (https://arxiv.org/abs/2006.11239)\n",
    "        - 构造函数：\n",
    "            - num_train_timesteps: int = 1000,\n",
    "            - beta_start: float = 0.0001,\n",
    "            - beta_end: float = 0.02,\n",
    "            - beta_schedule: str = 'linear',\n",
    "        - 核心函数\n",
    "            - `scheduler.add_noise()`:  (x0s, epsilons, ts) => xts\n",
    "                - input\n",
    "                    - original_samples: torch.FloatTensor,\n",
    "                    - noise: torch.FloatTensor,\n",
    "                    - timesteps: torch.IntTensor,\n",
    "                - output: noisy_images\n",
    "            - scheduler.step()"
   ]
  },
  {
   "cell_type": "code",
   "execution_count": 6,
   "id": "7ad84d14",
   "metadata": {
    "ExecuteTime": {
     "end_time": "2024-03-10T09:21:00.422960Z",
     "start_time": "2024-03-10T09:21:00.409437Z"
    }
   },
   "outputs": [
    {
     "data": {
      "text/plain": [
       "device(type='cuda')"
      ]
     },
     "execution_count": 6,
     "metadata": {},
     "output_type": "execute_result"
    }
   ],
   "source": [
    "def show_images(x):\n",
    "    \"\"\"Given a batch of images x, make a grid and convert to PIL\"\"\"\n",
    "    x = x * 0.5 + 0.5  # Map from (-1, 1) back to (0, 1)\n",
    "    grid = torchvision.utils.make_grid(x)\n",
    "    grid_im = grid.detach().cpu().permute(1, 2, 0).clip(0, 1) * 255\n",
    "    grid_im = Image.fromarray(np.array(grid_im).astype(np.uint8))\n",
    "    return grid_im\n",
    "\n",
    "\n",
    "def make_grid(images, size=64):\n",
    "    \"\"\"Given a list of PIL images, stack them together into a line for easy viewing\"\"\"\n",
    "    output_im = Image.new(\"RGB\", (size * len(images), size))\n",
    "    for i, im in enumerate(images):\n",
    "        output_im.paste(im.resize((size, size)), (i * size, 0))\n",
    "    return output_im\n",
    "\n",
    "\n",
    "# Mac users may need device = 'mps' (untested)\n",
    "device = torch.device(\"cuda\" if torch.cuda.is_available() else \"cpu\")\n",
    "device"
   ]
  },
  {
   "cell_type": "markdown",
   "id": "db6b0d86",
   "metadata": {},
   "source": [
    "### StableDiffusionPipeline"
   ]
  },
  {
   "cell_type": "code",
   "execution_count": null,
   "id": "5ee1b2a3",
   "metadata": {
    "ExecuteTime": {
     "end_time": "2024-02-29T12:47:38.867666Z",
     "start_time": "2024-02-29T12:47:29.128362Z"
    }
   },
   "outputs": [],
   "source": [
    "from diffusers import StableDiffusionPipeline\n",
    "\n",
    "# Check out https://huggingface.co/sd-dreambooth-library for loads of models from the community\n",
    "model_id = \"sd-dreambooth-library/mr-potato-head\"\n",
    "\n",
    "# Load the pipeline\n",
    "pipe = StableDiffusionPipeline.from_pretrained(model_id, torch_dtype=torch.float16).to(\n",
    "    device\n",
    ")"
   ]
  },
  {
   "cell_type": "code",
   "execution_count": null,
   "id": "7aeeab09",
   "metadata": {
    "ExecuteTime": {
     "end_time": "2024-02-29T12:47:40.339632Z",
     "start_time": "2024-02-29T12:47:40.332980Z"
    },
    "scrolled": false
   },
   "outputs": [],
   "source": [
    "pipe.components.keys()"
   ]
  },
  {
   "cell_type": "code",
   "execution_count": null,
   "id": "c6220f9c",
   "metadata": {
    "ExecuteTime": {
     "end_time": "2024-02-29T12:47:42.190468Z",
     "start_time": "2024-02-29T12:47:42.020019Z"
    }
   },
   "outputs": [],
   "source": [
    "pipe??"
   ]
  },
  {
   "cell_type": "code",
   "execution_count": null,
   "id": "47894310",
   "metadata": {
    "ExecuteTime": {
     "end_time": "2024-02-25T10:04:29.865867Z",
     "start_time": "2024-02-25T10:04:24.628500Z"
    },
    "scrolled": false
   },
   "outputs": [],
   "source": [
    "prompt = \"an abstract oil painting of sks mr potato head by picasso\"\n",
    "images = pipe(prompt, num_inference_steps=50, guidance_scale=7.5, num_images_per_prompt=5).images"
   ]
  },
  {
   "cell_type": "code",
   "execution_count": null,
   "id": "ff9e3a60",
   "metadata": {
    "ExecuteTime": {
     "end_time": "2024-02-25T10:05:02.374082Z",
     "start_time": "2024-02-25T10:05:02.240112Z"
    }
   },
   "outputs": [],
   "source": [
    "images[2]"
   ]
  },
  {
   "cell_type": "code",
   "execution_count": null,
   "id": "f8490578",
   "metadata": {
    "ExecuteTime": {
     "end_time": "2024-02-25T10:04:37.546899Z",
     "start_time": "2024-02-25T10:04:37.488251Z"
    }
   },
   "outputs": [],
   "source": [
    "make_grid(images)"
   ]
  },
  {
   "cell_type": "markdown",
   "id": "d55b751f",
   "metadata": {},
   "source": [
    "### DDPMPipeline"
   ]
  },
  {
   "cell_type": "code",
   "execution_count": 4,
   "id": "a7a87ff0",
   "metadata": {
    "ExecuteTime": {
     "end_time": "2024-03-10T05:22:38.421626Z",
     "start_time": "2024-03-10T05:22:19.371959Z"
    }
   },
   "outputs": [
    {
     "name": "stdout",
     "output_type": "stream",
     "text": [
      "[2024-03-10 13:22:21,189] [INFO] [real_accelerator.py:161:get_accelerator] Setting ds_accelerator to cuda (auto detect)\n"
     ]
    },
    {
     "name": "stderr",
     "output_type": "stream",
     "text": [
      "diffusion_pytorch_model.safetensors not found\n"
     ]
    },
    {
     "data": {
      "application/vnd.jupyter.widget-view+json": {
       "model_id": "7372e76db4df4f409880962616c091c0",
       "version_major": 2,
       "version_minor": 0
      },
      "text/plain": [
       "Loading pipeline components...:   0%|          | 0/2 [00:00<?, ?it/s]"
      ]
     },
     "metadata": {},
     "output_type": "display_data"
    },
    {
     "data": {
      "application/vnd.jupyter.widget-view+json": {
       "model_id": "da6131c70cdc4b63b2fd9abacca8244b",
       "version_major": 2,
       "version_minor": 0
      },
      "text/plain": [
       "  0%|          | 0/1000 [00:00<?, ?it/s]"
      ]
     },
     "metadata": {},
     "output_type": "display_data"
    },
    {
     "data": {
      "image/png": "[encoded data removed]",
      "text/plain": [
       "<PIL.Image.Image image mode=RGB size=512x64>"
      ]
     },
     "execution_count": 4,
     "metadata": {},
     "output_type": "execute_result"
    }
   ],
   "source": [
    "from diffusers import DDPMPipeline\n",
    "\n",
    "# Load the butterfly pipeline\n",
    "butterfly_pipeline = DDPMPipeline.from_pretrained(\n",
    "    \"johnowhitaker/ddpm-butterflies-32px\"\n",
    ").to(device)\n",
    "\n",
    "# Create 8 images\n",
    "images = butterfly_pipeline(batch_size=8).images\n",
    "\n",
    "# View the result\n",
    "make_grid(images)"
   ]
  },
  {
   "cell_type": "code",
   "execution_count": null,
   "id": "3c1e3a2f",
   "metadata": {
    "ExecuteTime": {
     "end_time": "2024-02-29T12:48:41.222572Z",
     "start_time": "2024-02-29T12:48:41.216485Z"
    }
   },
   "outputs": [],
   "source": [
    "butterfly_pipeline.components.keys()"
   ]
  },
  {
   "cell_type": "markdown",
   "id": "72ffba92",
   "metadata": {},
   "source": [
    "## images dataset"
   ]
  },
  {
   "cell_type": "code",
   "execution_count": 8,
   "id": "6ad1b5ff",
   "metadata": {
    "ExecuteTime": {
     "end_time": "2024-03-10T09:21:27.630431Z",
     "start_time": "2024-03-10T09:21:19.310615Z"
    }
   },
   "outputs": [
    {
     "name": "stderr",
     "output_type": "stream",
     "text": [
      "/home/whaow/anaconda3/lib/python3.10/site-packages/huggingface_hub/repocard.py:105: UserWarning: Repo card metadata block was not found. Setting CardData to empty.\n",
      "  warnings.warn(\"Repo card metadata block was not found. Setting CardData to empty.\")\n"
     ]
    }
   ],
   "source": [
    "import torchvision\n",
    "from datasets import load_dataset\n",
    "from torchvision import transforms\n",
    "\n",
    "dataset = load_dataset(\"huggan/smithsonian_butterflies_subset\", split=\"train\")\n",
    "\n",
    "# Or load images from a local folder\n",
    "# dataset = load_dataset(\"imagefolder\", data_dir=\"path/to/folder\")\n",
    "\n",
    "# We'll train on 32-pixel square images, but you can try larger sizes too\n",
    "image_size = 32\n",
    "# You can lower your batch size if you're running out of GPU memory\n",
    "batch_size = 64\n",
    "\n",
    "# Define data augmentations\n",
    "preprocess = transforms.Compose(\n",
    "    [\n",
    "        transforms.Resize((image_size, image_size)),  # Resize\n",
    "        transforms.RandomHorizontalFlip(),  # Randomly flip (data augmentation)\n",
    "        transforms.ToTensor(),  # Convert to tensor (0, 1)\n",
    "        # (0, 1) - 0.5 => [-0.5, 0.5]\n",
    "        # [-0.5, 0.5] / 0.5 => [-1, 1]\n",
    "        transforms.Normalize([0.5], [0.5]),  # Map to (-1, 1)\n",
    "    ]\n",
    ")\n",
    "\n",
    "\n",
    "def transform(examples):\n",
    "    images = [preprocess(image.convert(\"RGB\")) for image in examples[\"image\"]]\n",
    "    return {\"images\": images}\n",
    "\n",
    "\n",
    "dataset.set_transform(transform)\n",
    "\n",
    "# Create a dataloader from the dataset to serve up the transformed images in batches\n",
    "train_dataloader = torch.utils.data.DataLoader(\n",
    "    dataset, batch_size=batch_size, shuffle=True\n",
    ")"
   ]
  },
  {
   "cell_type": "code",
   "execution_count": null,
   "id": "567a619e",
   "metadata": {
    "ExecuteTime": {
     "end_time": "2024-03-10T01:45:37.875888Z",
     "start_time": "2024-03-10T01:45:37.239025Z"
    }
   },
   "outputs": [],
   "source": [
    "next(iter(train_dataloader))['images'].shape"
   ]
  },
  {
   "cell_type": "code",
   "execution_count": 9,
   "id": "ec07bb9a",
   "metadata": {
    "ExecuteTime": {
     "end_time": "2024-03-10T09:21:30.716145Z",
     "start_time": "2024-03-10T09:21:29.962383Z"
    }
   },
   "outputs": [
    {
     "data": {
      "image/png": "[encoded data removed]",
      "text/plain": [
       "<PIL.Image.Image image mode=RGB size=274x36>"
      ]
     },
     "execution_count": 9,
     "metadata": {},
     "output_type": "execute_result"
    }
   ],
   "source": [
    "image_batch = next(iter(train_dataloader))['images'].to(device)[:8]\n",
    "show_images(image_batch)"
   ]
  },
  {
   "cell_type": "code",
   "execution_count": null,
   "id": "e0e1c04e",
   "metadata": {
    "ExecuteTime": {
     "end_time": "2024-02-29T13:31:14.249445Z",
     "start_time": "2024-02-29T13:31:14.239108Z"
    }
   },
   "outputs": [],
   "source": [
    "len(train_dataloader)"
   ]
  },
  {
   "cell_type": "code",
   "execution_count": null,
   "id": "edec801e",
   "metadata": {
    "ExecuteTime": {
     "end_time": "2024-02-29T13:31:15.330163Z",
     "start_time": "2024-02-29T13:31:15.320636Z"
    }
   },
   "outputs": [],
   "source": [
    "len(train_dataloader.dataset)"
   ]
  },
  {
   "cell_type": "code",
   "execution_count": null,
   "id": "a206f9a4",
   "metadata": {
    "ExecuteTime": {
     "end_time": "2024-02-29T13:33:34.912485Z",
     "start_time": "2024-02-29T13:33:34.902243Z"
    }
   },
   "outputs": [],
   "source": [
    "1000/64"
   ]
  },
  {
   "cell_type": "markdown",
   "id": "4fcae931",
   "metadata": {},
   "source": [
    "## Scheduler"
   ]
  },
  {
   "cell_type": "markdown",
   "id": "73533d66",
   "metadata": {},
   "source": [
    "- forward noising process (pixel space):\n",
    "\n",
    "    $$\n",
    "    \\begin{split}\n",
    "    &q(x_t|x_{t-1})\\sim \\mathcal N(x_t;\\sqrt{1-\\beta_t}x_{t-1},\\beta_t\\mathbb I)\\\\\n",
    "    &q(x_{1:T}|x_0)=\\Pi_{t=1}^Tq(x_t|x_{t-1})\\\\\n",
    "    &q(x_t|x_0)=\\mathcal N(x_t;\\sqrt{\\bar \\alpha_t}x_0,(1-\\bar\\alpha_t)I), \\quad \\alpha_i=1-\\beta_i,\\bar\\alpha_t=\\Pi_{i=1}^T\\alpha_i\n",
    "    \\end{split}\n",
    "    $$\n",
    "    \n",
    "    - **scale** $x_{t-1}$ by $\\sqrt{1-\\beta_t}$ and **add noise scaled by** $\\beta_t$\n",
    "    - 对比 VaE（为什么叫 diffusion 而不是一种 VAE, latent space）\n",
    "        - Encoder：$q(z|x)$, $x_0\\rightarrow z_T$\n",
    "        - Decoder: $p(x|z)$, $z_T\\rightarrow x_0$\n",
    "    "
   ]
  },
  {
   "cell_type": "code",
   "execution_count": 10,
   "id": "88dc04e7",
   "metadata": {
    "ExecuteTime": {
     "end_time": "2024-03-10T09:21:34.052884Z",
     "start_time": "2024-03-10T09:21:34.047720Z"
    }
   },
   "outputs": [],
   "source": [
    "from diffusers import DDPMScheduler"
   ]
  },
  {
   "cell_type": "code",
   "execution_count": 11,
   "id": "3679d9f2",
   "metadata": {
    "ExecuteTime": {
     "end_time": "2024-03-10T09:21:35.029054Z",
     "start_time": "2024-03-10T09:21:35.012169Z"
    }
   },
   "outputs": [],
   "source": [
    "noise_scheduler = DDPMScheduler(num_train_timesteps=1000)"
   ]
  },
  {
   "cell_type": "code",
   "execution_count": 12,
   "id": "ade49fdf",
   "metadata": {
    "ExecuteTime": {
     "end_time": "2024-03-10T09:21:37.372479Z",
     "start_time": "2024-03-10T09:21:37.362308Z"
    }
   },
   "outputs": [
    {
     "data": {
      "text/plain": [
       "('linear', 0.0001, 0.02)"
      ]
     },
     "execution_count": 12,
     "metadata": {},
     "output_type": "execute_result"
    }
   ],
   "source": [
    "noise_scheduler.config.beta_schedule, noise_scheduler.config.beta_start, noise_scheduler.config.beta_end"
   ]
  },
  {
   "cell_type": "code",
   "execution_count": 10,
   "id": "284c4139",
   "metadata": {
    "ExecuteTime": {
     "end_time": "2024-03-10T05:23:06.482718Z",
     "start_time": "2024-03-10T05:23:06.473347Z"
    }
   },
   "outputs": [
    {
     "data": {
      "text/plain": [
       "True"
      ]
     },
     "execution_count": 10,
     "metadata": {},
     "output_type": "execute_result"
    }
   ],
   "source": [
    "torch.allclose(1- torch.linspace(0.0001, 0.02, 1000), noise_scheduler.alphas)"
   ]
  },
  {
   "cell_type": "code",
   "execution_count": null,
   "id": "00e00952",
   "metadata": {
    "ExecuteTime": {
     "end_time": "2024-02-29T12:40:57.824940Z",
     "start_time": "2024-02-29T12:40:57.805657Z"
    }
   },
   "outputs": [],
   "source": [
    "torch.allclose(torch.cumprod(noise_scheduler.alphas, 0), noise_scheduler.alphas_cumprod)"
   ]
  },
  {
   "cell_type": "code",
   "execution_count": null,
   "id": "f4566f07",
   "metadata": {
    "ExecuteTime": {
     "end_time": "2024-02-29T12:41:54.088011Z",
     "start_time": "2024-02-29T12:41:53.750772Z"
    }
   },
   "outputs": [],
   "source": [
    "plt.plot(noise_scheduler.alphas_cumprod.cpu() ** 0.5, label=r\"${\\sqrt{\\bar{\\alpha}_t}}$\")\n",
    "plt.plot((1 - noise_scheduler.alphas_cumprod.cpu()) ** 0.5, label=r\"$\\sqrt{(1 - \\bar{\\alpha}_t)}$\")\n",
    "plt.legend(fontsize=\"x-large\");"
   ]
  },
  {
   "cell_type": "markdown",
   "id": "7d78487a",
   "metadata": {},
   "source": [
    "- $\\bar\\alpha_1, \\bar\\alpha_2, \\bar\\alpha_3, ..., \\bar\\alpha_t$：是逐渐变小的过程"
   ]
  },
  {
   "cell_type": "code",
   "execution_count": null,
   "id": "bae53779",
   "metadata": {
    "ExecuteTime": {
     "end_time": "2024-02-29T12:42:30.157701Z",
     "start_time": "2024-02-29T12:42:30.151973Z"
    }
   },
   "outputs": [],
   "source": [
    "# One with too little noise added:\n",
    "# noise_scheduler = DDPMScheduler(num_train_timesteps=1000, beta_start=0.001, beta_end=0.004)\n",
    "# The 'cosine' schedule, which may be better for small image sizes:\n",
    "# noise_scheduler = DDPMScheduler(num_train_timesteps=1000, beta_schedule='squaredcos_cap_v2')"
   ]
  },
  {
   "cell_type": "code",
   "execution_count": 15,
   "id": "d71d0d8d",
   "metadata": {
    "ExecuteTime": {
     "end_time": "2024-03-10T09:21:46.203912Z",
     "start_time": "2024-03-10T09:21:46.182168Z"
    }
   },
   "outputs": [
    {
     "data": {
      "text/plain": [
       "tensor([  0, 142, 285, 428, 570, 713, 856, 999], device='cuda:0')"
      ]
     },
     "execution_count": 15,
     "metadata": {},
     "output_type": "execute_result"
    }
   ],
   "source": [
    "timesteps = torch.linspace(0, 999, 8).long().to(device)\n",
    "timesteps"
   ]
  },
  {
   "cell_type": "code",
   "execution_count": 14,
   "id": "9243dbdf",
   "metadata": {
    "ExecuteTime": {
     "end_time": "2024-03-10T09:21:45.168884Z",
     "start_time": "2024-03-10T09:21:45.147588Z"
    }
   },
   "outputs": [
    {
     "data": {
      "text/plain": [
       "torch.Size([8, 3, 32, 32])"
      ]
     },
     "execution_count": 14,
     "metadata": {},
     "output_type": "execute_result"
    }
   ],
   "source": [
    "noise = torch.randn_like(image_batch)\n",
    "noise.shape"
   ]
  },
  {
   "cell_type": "code",
   "execution_count": null,
   "id": "2c45ba69",
   "metadata": {
    "ExecuteTime": {
     "end_time": "2024-02-29T12:46:13.063347Z",
     "start_time": "2024-02-29T12:46:13.056903Z"
    }
   },
   "outputs": [],
   "source": [
    "# noise_scheduler.add_noise??"
   ]
  },
  {
   "cell_type": "code",
   "execution_count": 16,
   "id": "571ddefb",
   "metadata": {
    "ExecuteTime": {
     "end_time": "2024-03-10T09:21:48.308608Z",
     "start_time": "2024-03-10T09:21:48.256561Z"
    }
   },
   "outputs": [],
   "source": [
    "noisy_image_batch = noise_scheduler.add_noise(image_batch, noise, timesteps)"
   ]
  },
  {
   "cell_type": "code",
   "execution_count": 17,
   "id": "8b3aa5c1",
   "metadata": {
    "ExecuteTime": {
     "end_time": "2024-03-10T09:21:50.415418Z",
     "start_time": "2024-03-10T09:21:50.396616Z"
    }
   },
   "outputs": [
    {
     "data": {
      "image/png": "[encoded data removed]",
      "text/plain": [
       "<PIL.Image.Image image mode=RGB size=274x36>"
      ]
     },
     "execution_count": 17,
     "metadata": {},
     "output_type": "execute_result"
    }
   ],
   "source": [
    "show_images(noisy_image_batch)"
   ]
  },
  {
   "cell_type": "markdown",
   "id": "7ee7bc8c",
   "metadata": {},
   "source": [
    "## UNet (denoising model)"
   ]
  },
  {
   "cell_type": "markdown",
   "id": "c6814efa",
   "metadata": {},
   "source": [
    "- U-Net: Convolutional Networks for Biomedical Image Segmentation: https://arxiv.org/abs/1505.04597\n",
    "- downsample: ResNet blocks\n",
    "- #downsamples == #upsamples\n",
    "    - down_block_types\n",
    "    - up_block_types\n",
    "- skip connection linking features of (downsample / upsample)\n",
    "- output size == input size"
   ]
  },
  {
   "cell_type": "code",
   "execution_count": 32,
   "id": "b1df22ed",
   "metadata": {
    "ExecuteTime": {
     "end_time": "2024-03-10T09:49:44.523506Z",
     "start_time": "2024-03-10T09:49:44.512616Z"
    }
   },
   "outputs": [
    {
     "data": {
      "text/html": [
       "<img src=\"https://i.imgur.com/S7KH5hZ.png\" width=\"600\"/>"
      ],
      "text/plain": [
       "<IPython.core.display.Image object>"
      ]
     },
     "execution_count": 32,
     "metadata": {},
     "output_type": "execute_result"
    }
   ],
   "source": [
    "display.Image(url='https://i.imgur.com/S7KH5hZ.png', width=600)"
   ]
  },
  {
   "cell_type": "markdown",
   "id": "78a976db",
   "metadata": {},
   "source": [
    "$$\n",
    "\\epsilon_\\theta(x_t, t)\n",
    "$$\n",
    "\n",
    "- unet denoising model\n",
    "    - input: $(x_t, t)$\n",
    "    - output 是添加在 $x_t$ 上的 noise；"
   ]
  },
  {
   "cell_type": "code",
   "execution_count": null,
   "id": "b7bf49b0",
   "metadata": {
    "ExecuteTime": {
     "end_time": "2024-02-29T12:54:15.091183Z",
     "start_time": "2024-02-29T12:54:15.079944Z"
    }
   },
   "outputs": [],
   "source": [
    "display.Image(url='https://camo.githubusercontent.com/2c676413dda1f487521dd5c1e5c4b35b8cfbf06d50880e15660ea44bd76eac6f/68747470733a2f2f68756767696e67666163652e636f2f64617461736574732f68756767696e67666163652f646f63756d656e746174696f6e2d696d616765732f7265736f6c76652f6d61696e2f756e65742d6d6f64656c2e706e67', \n",
    "              width=600)"
   ]
  },
  {
   "cell_type": "code",
   "execution_count": 18,
   "id": "8d425b51",
   "metadata": {
    "ExecuteTime": {
     "end_time": "2024-03-10T09:21:57.832924Z",
     "start_time": "2024-03-10T09:21:57.727720Z"
    }
   },
   "outputs": [],
   "source": [
    "from diffusers import UNet2DModel"
   ]
  },
  {
   "cell_type": "code",
   "execution_count": 19,
   "id": "fc058800",
   "metadata": {
    "ExecuteTime": {
     "end_time": "2024-03-10T09:21:58.925772Z",
     "start_time": "2024-03-10T09:21:58.920709Z"
    }
   },
   "outputs": [],
   "source": [
    "image_size = 32"
   ]
  },
  {
   "cell_type": "code",
   "execution_count": 20,
   "id": "e89f4d8e",
   "metadata": {
    "ExecuteTime": {
     "end_time": "2024-03-10T09:22:00.455629Z",
     "start_time": "2024-03-10T09:22:00.182535Z"
    },
    "scrolled": true
   },
   "outputs": [],
   "source": [
    "unet = UNet2DModel(sample_size=image_size, \n",
    "                   in_channels=3, \n",
    "                   out_channels=3, \n",
    "                   layers_per_block=2, \n",
    "                   block_out_channels=[64, 128, 128, 256], \n",
    "                   down_block_types=['DownBlock2D', 'DownBlock2D', # a regular ResNet downsampling block\n",
    "                                     'AttnDownBlock2D', # a ResNet downsampling block with spatial self-attention\n",
    "                                     'AttnDownBlock2D'], \n",
    "                   up_block_types=['AttnUpBlock2D', 'AttnUpBlock2D', # a ResNet upsampling block with spatial self-attention\n",
    "                                   'UpBlock2D', 'UpBlock2D', # a regular ResNet upsampling block\n",
    "                                  ])\n",
    "unet = unet.to(device)\n",
    "# unet"
   ]
  },
  {
   "cell_type": "code",
   "execution_count": null,
   "id": "f6b839d8",
   "metadata": {
    "ExecuteTime": {
     "end_time": "2024-03-01T13:22:44.911582Z",
     "start_time": "2024-03-01T13:22:44.846314Z"
    }
   },
   "outputs": [],
   "source": [
    "unet.forward??"
   ]
  },
  {
   "cell_type": "code",
   "execution_count": 22,
   "id": "acb7edbd",
   "metadata": {
    "ExecuteTime": {
     "end_time": "2024-03-10T05:23:43.963014Z",
     "start_time": "2024-03-10T05:23:43.903347Z"
    }
   },
   "outputs": [
    {
     "data": {
      "text/plain": [
       "torch.Size([8, 3, 32, 32])"
      ]
     },
     "execution_count": 22,
     "metadata": {},
     "output_type": "execute_result"
    }
   ],
   "source": [
    "# (image, t)\n",
    "with torch.no_grad():\n",
    "    model_pred = unet(noisy_image_batch, timesteps).sample\n",
    "model_pred.shape"
   ]
  },
  {
   "cell_type": "code",
   "execution_count": null,
   "id": "f5766892",
   "metadata": {
    "ExecuteTime": {
     "end_time": "2024-03-10T05:01:37.270985Z",
     "start_time": "2024-03-10T05:01:37.255282Z"
    }
   },
   "outputs": [],
   "source": [
    "show_images(model_pred)"
   ]
  },
  {
   "cell_type": "code",
   "execution_count": null,
   "id": "82c14d15",
   "metadata": {
    "ExecuteTime": {
     "end_time": "2024-03-10T05:08:12.678409Z",
     "start_time": "2024-03-10T05:08:12.658719Z"
    }
   },
   "outputs": [],
   "source": [
    "mean = model_pred.view(model_pred.size(0), -1).mean(dim=1)\n",
    "var = model_pred.view(model_pred.size(0), -1).var(dim=1)\n",
    "print(mean, var)"
   ]
  },
  {
   "cell_type": "markdown",
   "id": "d40d78c8",
   "metadata": {},
   "source": [
    "## training"
   ]
  },
  {
   "cell_type": "code",
   "execution_count": 21,
   "id": "e05d909d",
   "metadata": {
    "ExecuteTime": {
     "end_time": "2024-03-10T09:22:05.295651Z",
     "start_time": "2024-03-10T09:22:05.289937Z"
    }
   },
   "outputs": [],
   "source": [
    "from tqdm.notebook import tqdm"
   ]
  },
  {
   "cell_type": "code",
   "execution_count": 22,
   "id": "1d4cfca6",
   "metadata": {
    "ExecuteTime": {
     "end_time": "2024-03-10T09:26:50.495216Z",
     "start_time": "2024-03-10T09:23:51.563287Z"
    },
    "scrolled": false
   },
   "outputs": [
    {
     "data": {
      "application/vnd.jupyter.widget-view+json": {
       "model_id": "f37b734a65fd4a16abd6e90ff5db3c92",
       "version_major": 2,
       "version_minor": 0
      },
      "text/plain": [
       "epochs:   0%|          | 0/30 [00:00<?, ?it/s]"
      ]
     },
     "metadata": {},
     "output_type": "display_data"
    },
    {
     "data": {
      "application/vnd.jupyter.widget-view+json": {
       "model_id": "96d0b9610ff14041bacf3c3472740923",
       "version_major": 2,
       "version_minor": 0
      },
      "text/plain": [
       "  0%|          | 0/16 [00:00<?, ?it/s]"
      ]
     },
     "metadata": {},
     "output_type": "display_data"
    },
    {
     "data": {
      "application/vnd.jupyter.widget-view+json": {
       "model_id": "06056808e18645c69beedb43f4bcddf3",
       "version_major": 2,
       "version_minor": 0
      },
      "text/plain": [
       "  0%|          | 0/16 [00:00<?, ?it/s]"
      ]
     },
     "metadata": {},
     "output_type": "display_data"
    },
    {
     "data": {
      "application/vnd.jupyter.widget-view+json": {
       "model_id": "b3c2db37cc464310bdeb32f5aab73220",
       "version_major": 2,
       "version_minor": 0
      },
      "text/plain": [
       "  0%|          | 0/16 [00:00<?, ?it/s]"
      ]
     },
     "metadata": {},
     "output_type": "display_data"
    },
    {
     "data": {
      "application/vnd.jupyter.widget-view+json": {
       "model_id": "b2880a6f7b1144edbcd7f509c453f200",
       "version_major": 2,
       "version_minor": 0
      },
      "text/plain": [
       "  0%|          | 0/16 [00:00<?, ?it/s]"
      ]
     },
     "metadata": {},
     "output_type": "display_data"
    },
    {
     "data": {
      "application/vnd.jupyter.widget-view+json": {
       "model_id": "bbfd8e1350614efda42c56dc07629cc4",
       "version_major": 2,
       "version_minor": 0
      },
      "text/plain": [
       "  0%|          | 0/16 [00:00<?, ?it/s]"
      ]
     },
     "metadata": {},
     "output_type": "display_data"
    },
    {
     "name": "stdout",
     "output_type": "stream",
     "text": [
      "Epoch:5, loss: 0.14475370571017265\n"
     ]
    },
    {
     "data": {
      "application/vnd.jupyter.widget-view+json": {
       "model_id": "0f4976d60ef6479e8dac4a48354ddde2",
       "version_major": 2,
       "version_minor": 0
      },
      "text/plain": [
       "  0%|          | 0/16 [00:00<?, ?it/s]"
      ]
     },
     "metadata": {},
     "output_type": "display_data"
    },
    {
     "data": {
      "application/vnd.jupyter.widget-view+json": {
       "model_id": "873fe5e6a8054d9792edd8b42ab31762",
       "version_major": 2,
       "version_minor": 0
      },
      "text/plain": [
       "  0%|          | 0/16 [00:00<?, ?it/s]"
      ]
     },
     "metadata": {},
     "output_type": "display_data"
    },
    {
     "data": {
      "application/vnd.jupyter.widget-view+json": {
       "model_id": "82e8ac64e67b4da29c85700a9c359297",
       "version_major": 2,
       "version_minor": 0
      },
      "text/plain": [
       "  0%|          | 0/16 [00:00<?, ?it/s]"
      ]
     },
     "metadata": {},
     "output_type": "display_data"
    },
    {
     "data": {
      "application/vnd.jupyter.widget-view+json": {
       "model_id": "8892d8705d204f138b8225d05e9e2a29",
       "version_major": 2,
       "version_minor": 0
      },
      "text/plain": [
       "  0%|          | 0/16 [00:00<?, ?it/s]"
      ]
     },
     "metadata": {},
     "output_type": "display_data"
    },
    {
     "data": {
      "application/vnd.jupyter.widget-view+json": {
       "model_id": "1503e4c55173414ebaedd694c4006cfa",
       "version_major": 2,
       "version_minor": 0
      },
      "text/plain": [
       "  0%|          | 0/16 [00:00<?, ?it/s]"
      ]
     },
     "metadata": {},
     "output_type": "display_data"
    },
    {
     "name": "stdout",
     "output_type": "stream",
     "text": [
      "Epoch:10, loss: 0.11314573138952255\n"
     ]
    },
    {
     "data": {
      "application/vnd.jupyter.widget-view+json": {
       "model_id": "76c2a3e3f365459cb0df1bf4a95801ea",
       "version_major": 2,
       "version_minor": 0
      },
      "text/plain": [
       "  0%|          | 0/16 [00:00<?, ?it/s]"
      ]
     },
     "metadata": {},
     "output_type": "display_data"
    },
    {
     "data": {
      "application/vnd.jupyter.widget-view+json": {
       "model_id": "1d94f4195bd04e2598fa987e90800933",
       "version_major": 2,
       "version_minor": 0
      },
      "text/plain": [
       "  0%|          | 0/16 [00:00<?, ?it/s]"
      ]
     },
     "metadata": {},
     "output_type": "display_data"
    },
    {
     "data": {
      "application/vnd.jupyter.widget-view+json": {
       "model_id": "639962ba0aba48b0b5abcbf605dc34e6",
       "version_major": 2,
       "version_minor": 0
      },
      "text/plain": [
       "  0%|          | 0/16 [00:00<?, ?it/s]"
      ]
     },
     "metadata": {},
     "output_type": "display_data"
    },
    {
     "data": {
      "application/vnd.jupyter.widget-view+json": {
       "model_id": "55939be9cb8d409f8538e40c292f1659",
       "version_major": 2,
       "version_minor": 0
      },
      "text/plain": [
       "  0%|          | 0/16 [00:00<?, ?it/s]"
      ]
     },
     "metadata": {},
     "output_type": "display_data"
    },
    {
     "data": {
      "application/vnd.jupyter.widget-view+json": {
       "model_id": "4cdc32efeb3247c9adb47ee6e75f3a33",
       "version_major": 2,
       "version_minor": 0
      },
      "text/plain": [
       "  0%|          | 0/16 [00:00<?, ?it/s]"
      ]
     },
     "metadata": {},
     "output_type": "display_data"
    },
    {
     "name": "stdout",
     "output_type": "stream",
     "text": [
      "Epoch:15, loss: 0.10076485620811582\n"
     ]
    },
    {
     "data": {
      "application/vnd.jupyter.widget-view+json": {
       "model_id": "2060e216a5b14f069ff826e121c13114",
       "version_major": 2,
       "version_minor": 0
      },
      "text/plain": [
       "  0%|          | 0/16 [00:00<?, ?it/s]"
      ]
     },
     "metadata": {},
     "output_type": "display_data"
    },
    {
     "data": {
      "application/vnd.jupyter.widget-view+json": {
       "model_id": "2dd4bebddfac4b7a98004df5f940474c",
       "version_major": 2,
       "version_minor": 0
      },
      "text/plain": [
       "  0%|          | 0/16 [00:00<?, ?it/s]"
      ]
     },
     "metadata": {},
     "output_type": "display_data"
    },
    {
     "data": {
      "application/vnd.jupyter.widget-view+json": {
       "model_id": "bccbcd4fed3c43a2833d6d993815861c",
       "version_major": 2,
       "version_minor": 0
      },
      "text/plain": [
       "  0%|          | 0/16 [00:00<?, ?it/s]"
      ]
     },
     "metadata": {},
     "output_type": "display_data"
    },
    {
     "data": {
      "application/vnd.jupyter.widget-view+json": {
       "model_id": "32e50df3021b499cbfefb4b1a4bc2e6f",
       "version_major": 2,
       "version_minor": 0
      },
      "text/plain": [
       "  0%|          | 0/16 [00:00<?, ?it/s]"
      ]
     },
     "metadata": {},
     "output_type": "display_data"
    },
    {
     "data": {
      "application/vnd.jupyter.widget-view+json": {
       "model_id": "1837522d3e354e9ebb081f6e534a852e",
       "version_major": 2,
       "version_minor": 0
      },
      "text/plain": [
       "  0%|          | 0/16 [00:00<?, ?it/s]"
      ]
     },
     "metadata": {},
     "output_type": "display_data"
    },
    {
     "name": "stdout",
     "output_type": "stream",
     "text": [
      "Epoch:20, loss: 0.09149518376216292\n"
     ]
    },
    {
     "data": {
      "application/vnd.jupyter.widget-view+json": {
       "model_id": "02b0dbee395e4774bac205760223adfb",
       "version_major": 2,
       "version_minor": 0
      },
      "text/plain": [
       "  0%|          | 0/16 [00:00<?, ?it/s]"
      ]
     },
     "metadata": {},
     "output_type": "display_data"
    },
    {
     "data": {
      "application/vnd.jupyter.widget-view+json": {
       "model_id": "177ea4a29ecd4281af6f6ca3f343cfe7",
       "version_major": 2,
       "version_minor": 0
      },
      "text/plain": [
       "  0%|          | 0/16 [00:00<?, ?it/s]"
      ]
     },
     "metadata": {},
     "output_type": "display_data"
    },
    {
     "data": {
      "application/vnd.jupyter.widget-view+json": {
       "model_id": "95754ad457e942ed9a48067e03fbc541",
       "version_major": 2,
       "version_minor": 0
      },
      "text/plain": [
       "  0%|          | 0/16 [00:00<?, ?it/s]"
      ]
     },
     "metadata": {},
     "output_type": "display_data"
    },
    {
     "data": {
      "application/vnd.jupyter.widget-view+json": {
       "model_id": "b9e0858330f34346bca5ec98c6f13cc9",
       "version_major": 2,
       "version_minor": 0
      },
      "text/plain": [
       "  0%|          | 0/16 [00:00<?, ?it/s]"
      ]
     },
     "metadata": {},
     "output_type": "display_data"
    },
    {
     "data": {
      "application/vnd.jupyter.widget-view+json": {
       "model_id": "d6b094f908514c28b2132eec186ef72a",
       "version_major": 2,
       "version_minor": 0
      },
      "text/plain": [
       "  0%|          | 0/16 [00:00<?, ?it/s]"
      ]
     },
     "metadata": {},
     "output_type": "display_data"
    },
    {
     "name": "stdout",
     "output_type": "stream",
     "text": [
      "Epoch:25, loss: 0.07726675178855658\n"
     ]
    },
    {
     "data": {
      "application/vnd.jupyter.widget-view+json": {
       "model_id": "a08aec83d9ff4d54bb98cea08a152784",
       "version_major": 2,
       "version_minor": 0
      },
      "text/plain": [
       "  0%|          | 0/16 [00:00<?, ?it/s]"
      ]
     },
     "metadata": {},
     "output_type": "display_data"
    },
    {
     "data": {
      "application/vnd.jupyter.widget-view+json": {
       "model_id": "e280b2549847417fb5de0ba26d2b857a",
       "version_major": 2,
       "version_minor": 0
      },
      "text/plain": [
       "  0%|          | 0/16 [00:00<?, ?it/s]"
      ]
     },
     "metadata": {},
     "output_type": "display_data"
    },
    {
     "data": {
      "application/vnd.jupyter.widget-view+json": {
       "model_id": "55bff6aca21c47bb8d7b6c1f08474bb9",
       "version_major": 2,
       "version_minor": 0
      },
      "text/plain": [
       "  0%|          | 0/16 [00:00<?, ?it/s]"
      ]
     },
     "metadata": {},
     "output_type": "display_data"
    },
    {
     "data": {
      "application/vnd.jupyter.widget-view+json": {
       "model_id": "456af80f50584905a7062e289011e969",
       "version_major": 2,
       "version_minor": 0
      },
      "text/plain": [
       "  0%|          | 0/16 [00:00<?, ?it/s]"
      ]
     },
     "metadata": {},
     "output_type": "display_data"
    },
    {
     "data": {
      "application/vnd.jupyter.widget-view+json": {
       "model_id": "52c2827f43ea4e64beeda64b33efd9fb",
       "version_major": 2,
       "version_minor": 0
      },
      "text/plain": [
       "  0%|          | 0/16 [00:00<?, ?it/s]"
      ]
     },
     "metadata": {},
     "output_type": "display_data"
    },
    {
     "name": "stdout",
     "output_type": "stream",
     "text": [
      "Epoch:30, loss: 0.0734948655590415\n"
     ]
    }
   ],
   "source": [
    "# Set the noise scheduler\n",
    "noise_scheduler = DDPMScheduler(\n",
    "    num_train_timesteps=1000, beta_schedule=\"squaredcos_cap_v2\"\n",
    ")\n",
    "\n",
    "# Training loop\n",
    "optimizer = torch.optim.AdamW(unet.parameters(), lr=4e-4)\n",
    "\n",
    "losses = []\n",
    "\n",
    "for epoch in tqdm(range(30), 'epochs'):\n",
    "    for step, batch in tqdm(enumerate(train_dataloader), total=len(train_dataloader), leave='False'):\n",
    "        # x0\n",
    "        clean_images = batch[\"images\"].to(device)\n",
    "        # Sample noise to add to the images\n",
    "        noise = torch.randn(clean_images.shape).to(clean_images.device)\n",
    "        bs = clean_images.shape[0]\n",
    "\n",
    "        # Sample a random timestep for each image\n",
    "        timesteps = torch.randint(\n",
    "            0, noise_scheduler.config.num_train_timesteps, (bs,), device=clean_images.device\n",
    "        ).long()\n",
    "\n",
    "        # Add noise to the clean images according to the noise magnitude at each timestep\n",
    "        noisy_images = noise_scheduler.add_noise(clean_images, noise, timesteps)\n",
    "\n",
    "        # Get the model prediction\n",
    "        noise_pred = unet(noisy_images, timesteps, return_dict=False)[0]\n",
    "\n",
    "        # Calculate the loss\n",
    "        loss = F.mse_loss(noise_pred, noise)\n",
    "        loss.backward(loss)\n",
    "        losses.append(loss.item())\n",
    "\n",
    "        # Update the model parameters with the optimizer\n",
    "        optimizer.step()\n",
    "        optimizer.zero_grad()\n",
    "\n",
    "    if (epoch + 1) % 5 == 0:\n",
    "        loss_last_epoch = sum(losses[-len(train_dataloader) :]) / len(train_dataloader)\n",
    "        print(f\"Epoch:{epoch+1}, loss: {loss_last_epoch}\")"
   ]
  },
  {
   "cell_type": "code",
   "execution_count": 26,
   "id": "d1bea317",
   "metadata": {
    "ExecuteTime": {
     "end_time": "2024-03-10T09:27:08.160374Z",
     "start_time": "2024-03-10T09:27:08.150168Z"
    }
   },
   "outputs": [
    {
     "data": {
      "text/plain": [
       "(1.1031877994537354, 0.07205764949321747)"
      ]
     },
     "execution_count": 26,
     "metadata": {},
     "output_type": "execute_result"
    }
   ],
   "source": [
    "losses[0], losses[-1]"
   ]
  },
  {
   "cell_type": "code",
   "execution_count": 27,
   "id": "80636737",
   "metadata": {
    "ExecuteTime": {
     "end_time": "2024-03-10T09:27:11.460584Z",
     "start_time": "2024-03-10T09:27:11.128095Z"
    }
   },
   "outputs": [
    {
     "data": {
      "text/plain": [
       "[<matplotlib.lines.Line2D at 0x7b25a41cd6c0>]"
      ]
     },
     "execution_count": 27,
     "metadata": {},
     "output_type": "execute_result"
    },
    {
     "data": {
      "image/png": "[encoded data removed]",
      "text/plain": [
       "<Figure size 1200x400 with 2 Axes>"
      ]
     },
     "metadata": {},
     "output_type": "display_data"
    }
   ],
   "source": [
    "fig, axes = plt.subplots(1, 2, figsize=(12, 4))\n",
    "axes[0].plot(losses)\n",
    "axes[1].plot(np.log(losses))"
   ]
  },
  {
   "cell_type": "markdown",
   "id": "99d1e80f",
   "metadata": {},
   "source": [
    "## generate images"
   ]
  },
  {
   "cell_type": "code",
   "execution_count": 28,
   "id": "b6d809b2",
   "metadata": {
    "ExecuteTime": {
     "end_time": "2024-03-10T09:27:20.197825Z",
     "start_time": "2024-03-10T09:27:20.171536Z"
    }
   },
   "outputs": [],
   "source": [
    "image_pipe = DDPMPipeline(unet=unet, scheduler=noise_scheduler)"
   ]
  },
  {
   "cell_type": "code",
   "execution_count": 30,
   "id": "e4d59d98",
   "metadata": {
    "ExecuteTime": {
     "end_time": "2024-03-10T09:28:01.835612Z",
     "start_time": "2024-03-10T09:28:01.782501Z"
    }
   },
   "outputs": [],
   "source": [
    "image_pipe??"
   ]
  },
  {
   "cell_type": "code",
   "execution_count": 31,
   "id": "3de8125a",
   "metadata": {
    "ExecuteTime": {
     "end_time": "2024-03-10T09:28:51.203002Z",
     "start_time": "2024-03-10T09:28:51.140138Z"
    }
   },
   "outputs": [],
   "source": [
    "noise_scheduler.step??"
   ]
  },
  {
   "cell_type": "code",
   "execution_count": 31,
   "id": "9be6c2d7",
   "metadata": {
    "ExecuteTime": {
     "end_time": "2024-03-10T05:29:17.521118Z",
     "start_time": "2024-03-10T05:29:05.200562Z"
    }
   },
   "outputs": [
    {
     "data": {
      "application/vnd.jupyter.widget-view+json": {
       "model_id": "54b7138ef5924e31af16dc5e5cb809d3",
       "version_major": 2,
       "version_minor": 0
      },
      "text/plain": [
       "  0%|          | 0/1000 [00:00<?, ?it/s]"
      ]
     },
     "metadata": {},
     "output_type": "display_data"
    },
    {
     "data": {
      "image/png": "[encoded data removed]",
      "text/plain": [
       "<PIL.Image.Image image mode=RGB size=32x32>"
      ]
     },
     "execution_count": 31,
     "metadata": {},
     "output_type": "execute_result"
    }
   ],
   "source": [
    "image_pipe().images[0]"
   ]
  },
  {
   "cell_type": "code",
   "execution_count": 33,
   "id": "c4ae5b5c",
   "metadata": {
    "ExecuteTime": {
     "end_time": "2024-03-10T09:49:52.532418Z",
     "start_time": "2024-03-10T09:49:52.521805Z"
    }
   },
   "outputs": [
    {
     "data": {
      "text/html": [
       "<img src=\"https://i.imgur.com/S7KH5hZ.png\" width=\"600\"/>"
      ],
      "text/plain": [
       "<IPython.core.display.Image object>"
      ]
     },
     "execution_count": 33,
     "metadata": {},
     "output_type": "execute_result"
    }
   ],
   "source": [
    "display.Image(url='https://i.imgur.com/S7KH5hZ.png', width=600)"
   ]
  },
  {
   "cell_type": "markdown",
   "id": "23447306",
   "metadata": {},
   "source": [
    "```\n",
    "image = randn_tensor(image_shape, generator=generator, device=self.device)\n",
    "\n",
    "# set step values\n",
    "self.scheduler.set_timesteps(num_inference_steps)\n",
    "\n",
    "for t in self.progress_bar(self.scheduler.timesteps):\n",
    "    # 1. predict noise model_output\n",
    "    model_output = self.unet(image, t).sample\n",
    "\n",
    "    # 2. compute previous image: x_t -> x_t-1\n",
    "    image = self.scheduler.step(model_output, t, image, generator=generator).prev_sample\n",
    "\n",
    "image = (image / 2 + 0.5).clamp(0, 1)\n",
    "image = image.cpu().permute(0, 2, 3, 1).numpy()\n",
    "if output_type == \"pil\":\n",
    "    image = self.numpy_to_pil(image)\n",
    "```\n"
   ]
  },
  {
   "cell_type": "markdown",
   "id": "86bc8b28",
   "metadata": {},
   "source": [
    "```\n",
    "t = timestep\n",
    "\n",
    "prev_t = self.previous_timestep(t)\n",
    "\n",
    "if model_output.shape[1] == sample.shape[1] * 2 and self.variance_type in [\"learned\", \"learned_range\"]:\n",
    "    model_output, predicted_variance = torch.split(model_output, sample.shape[1], dim=1)\n",
    "else:\n",
    "    predicted_variance = None\n",
    "\n",
    "# 1. compute alphas, betas\n",
    "alpha_prod_t = self.alphas_cumprod[t]\n",
    "alpha_prod_t_prev = self.alphas_cumprod[prev_t] if prev_t >= 0 else self.one\n",
    "beta_prod_t = 1 - alpha_prod_t\n",
    "beta_prod_t_prev = 1 - alpha_prod_t_prev\n",
    "current_alpha_t = alpha_prod_t / alpha_prod_t_prev\n",
    "current_beta_t = 1 - current_alpha_t\n",
    "\n",
    "# 2. compute predicted original sample from predicted noise also called\n",
    "# \"predicted x_0\" of formula (15) from https://arxiv.org/pdf/2006.11239.pdf\n",
    "if self.config.prediction_type == \"epsilon\":\n",
    "    pred_original_sample = (sample - beta_prod_t ** (0.5) * model_output) / alpha_prod_t ** (0.5)\n",
    "elif self.config.prediction_type == \"sample\":\n",
    "    pred_original_sample = model_output\n",
    "elif self.config.prediction_type == \"v_prediction\":\n",
    "    pred_original_sample = (alpha_prod_t**0.5) * sample - (beta_prod_t**0.5) * model_output\n",
    "else:\n",
    "    raise ValueError(\n",
    "        f\"prediction_type given as {self.config.prediction_type} must be one of `epsilon`, `sample` or\"\n",
    "        \" `v_prediction`  for the DDPMScheduler.\"\n",
    "    )\n",
    "\n",
    "# 3. Clip or threshold \"predicted x_0\"\n",
    "if self.config.thresholding:\n",
    "    pred_original_sample = self._threshold_sample(pred_original_sample)\n",
    "elif self.config.clip_sample:\n",
    "    pred_original_sample = pred_original_sample.clamp(\n",
    "        -self.config.clip_sample_range, self.config.clip_sample_range\n",
    "    )\n",
    "\n",
    "# 4. Compute coefficients for pred_original_sample x_0 and current sample x_t\n",
    "# See formula (7) from https://arxiv.org/pdf/2006.11239.pdf\n",
    "pred_original_sample_coeff = (alpha_prod_t_prev ** (0.5) * current_beta_t) / beta_prod_t\n",
    "current_sample_coeff = current_alpha_t ** (0.5) * beta_prod_t_prev / beta_prod_t\n",
    "\n",
    "# 5. Compute predicted previous sample µ_t\n",
    "# See formula (7) from https://arxiv.org/pdf/2006.11239.pdf\n",
    "pred_prev_sample = pred_original_sample_coeff * pred_original_sample + current_sample_coeff * sample\n",
    "\n",
    "# 6. Add noise\n",
    "variance = 0\n",
    "if t > 0:\n",
    "    device = model_output.device\n",
    "    variance_noise = randn_tensor(\n",
    "        model_output.shape, generator=generator, device=device, dtype=model_output.dtype\n",
    "    )\n",
    "    if self.variance_type == \"fixed_small_log\":\n",
    "        variance = self._get_variance(t, predicted_variance=predicted_variance) * variance_noise\n",
    "    elif self.variance_type == \"learned_range\":\n",
    "        variance = self._get_variance(t, predicted_variance=predicted_variance)\n",
    "        variance = torch.exp(0.5 * variance) * variance_noise\n",
    "    else:\n",
    "        variance = (self._get_variance(t, predicted_variance=predicted_variance) ** 0.5) * variance_noise\n",
    "\n",
    "pred_prev_sample = pred_prev_sample + variance\n",
    "```"
   ]
  },
  {
   "cell_type": "markdown",
   "id": "f1edc361",
   "metadata": {},
   "source": [
    "$$\n",
    "\\begin{split}\n",
    "&x_0\\approx \\hat x_0 = (x_t-\\sqrt{1-\\bar\\alpha_t}\\epsilon_\\theta(x_t))\\sqrt{\\bar\\alpha_t},\\quad (15)\\\\\n",
    "&q(x_{t-1}|x_t,x_0)=\\mathcal N(x_{t-1};\\tilde\\mu_t(x_t,x_0),\\tilde\\beta_tI),\\quad (6)\\\\\n",
    "&\\tilde\\mu_t(x_t,x_0):=\\frac{\\sqrt{\\bar{\\alpha}_{t-1}}\\beta_t}{1-\\bar\\alpha_t}x_0+\\frac{\\sqrt{\\alpha_t}{(1-\\bar\\alpha_{t-1})}}{1-\\bar\\alpha_t}x_t\\\\\n",
    "&\\tilde\\beta_t:=\\frac{1-\\bar\\alpha_{t-1}}{1-\\bar\\alpha_t}\\beta_t,\\quad (7)\n",
    "\\end{split}\n",
    "$$"
   ]
  }
 ],
 "metadata": {
  "kernelspec": {
   "display_name": "Python 3 (ipykernel)",
   "language": "python",
   "name": "python3"
  },
  "language_info": {
   "codemirror_mode": {
    "name": "ipython",
    "version": 3
   },
   "file_extension": ".py",
   "mimetype": "text/x-python",
   "name": "python",
   "nbconvert_exporter": "python",
   "pygments_lexer": "ipython3",
   "version": "3.10.13"
  },
  "toc": {
   "base_numbering": 1,
   "nav_menu": {},
   "number_sections": true,
   "sideBar": true,
   "skip_h1_title": false,
   "title_cell": "Table of Contents",
   "title_sidebar": "Contents",
   "toc_cell": false,
   "toc_position": {},
   "toc_section_display": true,
   "toc_window_display": false
  }
 },
 "nbformat": 4,
 "nbformat_minor": 5
}
