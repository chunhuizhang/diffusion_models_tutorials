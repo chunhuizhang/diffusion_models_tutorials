{
 "cells": [
  {
   "cell_type": "code",
   "execution_count": 1,
   "id": "03665c2e",
   "metadata": {
    "ExecuteTime": {
     "end_time": "2024-03-01T13:28:56.901453Z",
     "start_time": "2024-03-01T13:28:56.885433Z"
    }
   },
   "outputs": [],
   "source": [
    "from IPython.display import Image"
   ]
  },
  {
   "cell_type": "code",
   "execution_count": 2,
   "id": "1059785d",
   "metadata": {
    "ExecuteTime": {
     "end_time": "2024-03-01T13:29:08.995128Z",
     "start_time": "2024-03-01T13:29:08.978791Z"
    }
   },
   "outputs": [
    {
     "data": {
      "text/html": [
       "<img src=\"https://i.imgur.com/S7KH5hZ.png\" width=\"600\"/>"
      ],
      "text/plain": [
       "<IPython.core.display.Image object>"
      ]
     },
     "execution_count": 2,
     "metadata": {},
     "output_type": "execute_result"
    }
   ],
   "source": [
    "Image(url='https://i.imgur.com/S7KH5hZ.png', width=600)"
   ]
  },
  {
   "cell_type": "markdown",
   "id": "fa6b59aa",
   "metadata": {},
   "source": [
    "## Training"
   ]
  },
  {
   "cell_type": "markdown",
   "id": "241786c1",
   "metadata": {},
   "source": [
    "$$\n",
    "\\nabla_\\theta\\left\\|\\epsilon - \\epsilon_\\theta(\\sqrt{\\bar\\alpha_t}x_0+\\sqrt{1-\\bar\\alpha_t}\\epsilon, t)\\right\\|^2\n",
    "$$\n",
    "\n",
    "- $\\epsilon$: target noise\n",
    "- $\\sqrt{\\bar\\alpha_t}x_0+\\sqrt{1-\\bar\\alpha_t}\\epsilon$: noisy image\n",
    "- $\\epsilon_\\theta(\\cdot, t)$: noise predictor\n",
    "    - $\\epsilon_\\theta(, t)$：neural Network\n",
    "        - unet"
   ]
  },
  {
   "cell_type": "markdown",
   "id": "b229f80b",
   "metadata": {},
   "source": [
    "## Sampling"
   ]
  },
  {
   "cell_type": "markdown",
   "id": "5110197d",
   "metadata": {},
   "source": [
    "$$\n",
    "x_{t-1}=\\frac{1}{\\sqrt{\\alpha_t}}\\left(x_t-\\frac{1-\\alpha_t}{\\sqrt{1-\\bar{\\alpha_t}}}\\epsilon_\\theta(x_t,t)\\right)+\\sigma_tz\n",
    "$$\n",
    "\n",
    "- $\\epsilon_\\theta(x_t, t)$ unet denoising model\n",
    "    - input: $(x_t, t)$\n",
    "- $\\sigma_tz$：为noise\n",
    "- 抛开这个 noise 不谈，\n",
    "\n",
    "$$\n",
    "x_{t-1}=\\frac{1}{\\sqrt{\\alpha_t}}\\left(x_t-\\frac{1-\\alpha_t}{\\sqrt{1-\\bar{\\alpha_t}}}\\epsilon_\\theta(x_t,t)\\right)\\\\\n",
    "\\sqrt{\\alpha_t}x_{t-1}+\\frac{1-\\alpha_t}{\\sqrt{1-\\bar\\alpha_t}}\\epsilon_\\theta(x_t,t)=x_t\n",
    "$$"
   ]
  },
  {
   "cell_type": "code",
   "execution_count": null,
   "id": "6afc4ade",
   "metadata": {},
   "outputs": [],
   "source": []
  }
 ],
 "metadata": {
  "kernelspec": {
   "display_name": "Python 3 (ipykernel)",
   "language": "python",
   "name": "python3"
  },
  "language_info": {
   "codemirror_mode": {
    "name": "ipython",
    "version": 3
   },
   "file_extension": ".py",
   "mimetype": "text/x-python",
   "name": "python",
   "nbconvert_exporter": "python",
   "pygments_lexer": "ipython3",
   "version": "3.10.13"
  },
  "toc": {
   "base_numbering": 1,
   "nav_menu": {},
   "number_sections": true,
   "sideBar": true,
   "skip_h1_title": false,
   "title_cell": "Table of Contents",
   "title_sidebar": "Contents",
   "toc_cell": false,
   "toc_position": {},
   "toc_section_display": true,
   "toc_window_display": false
  }
 },
 "nbformat": 4,
 "nbformat_minor": 5
}
